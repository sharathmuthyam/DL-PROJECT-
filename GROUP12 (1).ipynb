{
  "metadata": {
    "kernelspec": {
      "display_name": "Python 3",
      "name": "python3"
    },
    "language_info": {
      "name": "python",
      "version": "3.11.11",
      "mimetype": "text/x-python",
      "codemirror_mode": {
        "name": "ipython",
        "version": 3
      },
      "pygments_lexer": "ipython3",
      "nbconvert_exporter": "python",
      "file_extension": ".py"
    },
    "kaggle": {
      "accelerator": "nvidiaTeslaT4",
      "dataSources": [
        {
          "sourceId": 4140,
          "sourceType": "datasetVersion",
          "datasetId": 2477
        }
      ],
      "dockerImageVersionId": 31011,
      "isInternetEnabled": true,
      "language": "python",
      "sourceType": "notebook",
      "isGpuEnabled": true
    },
    "colab": {
      "provenance": [],
      "gpuType": "T4"
    },
    "accelerator": "GPU"
  },
  "nbformat_minor": 0,
  "nbformat": 4,
  "cells": [
    {
      "cell_type": "markdown",
      "source": [
        "# Requirements\n",
        "\n",
        "Please make sure the following packages are installed:\n",
        "\n",
        "- torch\n",
        "- transformers\n",
        "- nltk\n",
        "- scikit-learn\n",
        "- pandas\n",
        "- numpy\n",
        "\n",
        "Install missing libraries by running:\n",
        "\n",
        "!pip install torch transformers nltk scikit-learn pandas numpy"
      ],
      "metadata": {
        "id": "dcceDG6hkXf1"
      }
    },
    {
      "cell_type": "code",
      "source": [
        "import re\n",
        "import pandas as pd\n",
        "import numpy as np\n",
        "import torch\n",
        "import torch.nn as nn\n",
        "from torch.utils.data import Dataset, DataLoader\n",
        "from sklearn.model_selection import train_test_split\n",
        "from nltk.tokenize import word_tokenize\n",
        "from torch.nn.utils.rnn import pad_sequence\n",
        "from collections import Counter\n",
        "import nltk\n",
        "\n",
        "nltk.download('punkt')\n"
      ],
      "metadata": {
        "_uuid": "8f2839f25d086af736a60e9eeb907d3b93b6e0e5",
        "_cell_guid": "b1076dfc-b9ad-4769-8c92-a6c4dae69d19",
        "trusted": true,
        "execution": {
          "iopub.status.busy": "2025-04-26T00:22:38.744286Z",
          "iopub.execute_input": "2025-04-26T00:22:38.744556Z",
          "iopub.status.idle": "2025-04-26T00:22:38.751170Z",
          "shell.execute_reply.started": "2025-04-26T00:22:38.744535Z",
          "shell.execute_reply": "2025-04-26T00:22:38.750167Z"
        },
        "colab": {
          "base_uri": "https://localhost:8080/"
        },
        "id": "lKHxwf1ZfL__",
        "outputId": "3912672f-f9d1-4c0e-c994-cf4091b507ad"
      },
      "outputs": [
        {
          "output_type": "stream",
          "name": "stderr",
          "text": [
            "[nltk_data] Downloading package punkt to /root/nltk_data...\n",
            "[nltk_data]   Package punkt is already up-to-date!\n"
          ]
        },
        {
          "output_type": "execute_result",
          "data": {
            "text/plain": [
              "True"
            ]
          },
          "metadata": {},
          "execution_count": 54
        }
      ],
      "execution_count": 54
    },
    {
      "cell_type": "markdown",
      "source": [
        "# Additional Notes\n",
        "- Download NLTK punkt tokenizer inside the notebook by running: nltk.download('punkt')\n",
        "- Dataset file \"training.1600000.processed.noemoticon.csv\" must be placed correctly or uploaded manually. https://www.kaggle.com/datasets/kazanova/sentiment140/data\n",
        "\n"
      ],
      "metadata": {
        "id": "6fqsMXvKkbUn"
      }
    },
    {
      "cell_type": "code",
      "source": [
        "import zipfile\n",
        "import os\n",
        "\n",
        "# Get the uploaded filename\n",
        "filename = \"/content/drive/MyDrive/training.1600000.processed.noemoticon.csv (3).zip\"\n",
        "\n",
        "# Unzip it\n",
        "with zipfile.ZipFile(filename, 'r') as zip_ref:\n",
        "    zip_ref.extractall(\"data\")\n"
      ],
      "metadata": {
        "id": "6To29SbjAmac"
      },
      "execution_count": 55,
      "outputs": []
    },
    {
      "cell_type": "markdown",
      "source": [],
      "metadata": {
        "id": "o0g0WmEbkhUc"
      }
    },
    {
      "cell_type": "code",
      "source": [
        "import os\n",
        "\n",
        "# List files in the unzipped folder\n",
        "for file in os.listdir(\"data\"):\n",
        "    print(file)\n"
      ],
      "metadata": {
        "colab": {
          "base_uri": "https://localhost:8080/"
        },
        "id": "Ah7Ak_pTAubS",
        "outputId": "48e01021-c550-4f17-b602-03b7dfbc5d4e"
      },
      "execution_count": 56,
      "outputs": [
        {
          "output_type": "stream",
          "name": "stdout",
          "text": [
            "training.1600000.processed.noemoticon.csv\n"
          ]
        }
      ]
    },
    {
      "cell_type": "code",
      "source": [
        "#checking GPU available or not\n",
        "if torch.cuda.is_available():\n",
        "\n",
        "    device = torch.device(\"cuda\")\n",
        "\n",
        "    print('There are %d GPU(s) available.' % torch.cuda.device_count())\n",
        "\n",
        "    print('We will use the GPU:', torch.cuda.get_device_name(0))\n",
        "\n",
        "else:\n",
        "    print('No GPU available, using the CPU instead.')\n",
        "    device = torch.device(\"cpu\")"
      ],
      "metadata": {
        "trusted": true,
        "execution": {
          "iopub.status.busy": "2025-04-26T00:22:41.249900Z",
          "iopub.execute_input": "2025-04-26T00:22:41.250560Z",
          "iopub.status.idle": "2025-04-26T00:22:41.255114Z",
          "shell.execute_reply.started": "2025-04-26T00:22:41.250537Z",
          "shell.execute_reply": "2025-04-26T00:22:41.254214Z"
        },
        "colab": {
          "base_uri": "https://localhost:8080/"
        },
        "id": "sOeBvdZLfMAB",
        "outputId": "89a7e0e1-5c60-453f-9ae1-03de6bad8f7c"
      },
      "outputs": [
        {
          "output_type": "stream",
          "name": "stdout",
          "text": [
            "There are 1 GPU(s) available.\n",
            "We will use the GPU: Tesla T4\n"
          ]
        }
      ],
      "execution_count": 57
    },
    {
      "cell_type": "markdown",
      "source": [
        "Reading the datset and displaying it"
      ],
      "metadata": {
        "id": "_MSA4u1qk3fv"
      }
    },
    {
      "cell_type": "code",
      "source": [
        "df =  pd.read_csv(\"data/training.1600000.processed.noemoticon.csv\", encoding=\"ISO-8859-1\", header=None , names=['label', 'ids', 'data', 'flag' , 'user','sentence'])\n",
        "\n",
        "# Report the number of sentences.\n",
        "print('Number of training sentences: {:,}\\n'.format(df.shape[0]))\n",
        "\n",
        "# Display 10 random rows from the data.\n",
        "df.sample(10)"
      ],
      "metadata": {
        "trusted": true,
        "execution": {
          "iopub.status.busy": "2025-04-26T00:22:43.609158Z",
          "iopub.execute_input": "2025-04-26T00:22:43.609847Z",
          "iopub.status.idle": "2025-04-26T00:22:46.920425Z",
          "shell.execute_reply.started": "2025-04-26T00:22:43.609819Z",
          "shell.execute_reply": "2025-04-26T00:22:46.919568Z"
        },
        "colab": {
          "base_uri": "https://localhost:8080/",
          "height": 399
        },
        "id": "Q9T1Gt51fMAC",
        "outputId": "d7b4cd99-3eca-4780-f8a7-10347b7781e7"
      },
      "outputs": [
        {
          "output_type": "stream",
          "name": "stdout",
          "text": [
            "Number of training sentences: 1,600,000\n",
            "\n"
          ]
        },
        {
          "output_type": "execute_result",
          "data": {
            "text/plain": [
              "         label         ids                          data      flag  \\\n",
              "1131681      4  1975895789  Sat May 30 16:08:10 PDT 2009  NO_QUERY   \n",
              "1480743      4  2066921606  Sun Jun 07 11:25:12 PDT 2009  NO_QUERY   \n",
              "748529       0  2284404311  Mon Jun 22 13:50:37 PDT 2009  NO_QUERY   \n",
              "796273       0  2327692681  Thu Jun 25 08:40:06 PDT 2009  NO_QUERY   \n",
              "442205       0  2067211561  Sun Jun 07 11:57:00 PDT 2009  NO_QUERY   \n",
              "1199520      4  1985330445  Sun May 31 16:53:49 PDT 2009  NO_QUERY   \n",
              "715281       0  2259372194  Sat Jun 20 17:28:15 PDT 2009  NO_QUERY   \n",
              "944902       4  1795855493  Thu May 14 08:29:02 PDT 2009  NO_QUERY   \n",
              "577494       0  2212575770  Wed Jun 17 14:15:59 PDT 2009  NO_QUERY   \n",
              "199675       0  1971493426  Sat May 30 07:14:26 PDT 2009  NO_QUERY   \n",
              "\n",
              "                  user                                           sentence  \n",
              "1131681      erinlynns                About to eat some sloppy meat soon   \n",
              "1480743     RexMorgan1  wethers turning bbbbaaaadddd!!!!! b'day celebr...  \n",
              "748529         Souszan                             where is my boyfriend   \n",
              "796273   TheMakeupBird  @peacelovepink09 OMG LUCKYYYY!!! i haven't eve...  \n",
              "442205         angelsk               Urm, and I feel sick, why? Not good   \n",
              "1199520  KennethScottH                             PHILIP FIX THE CABLE!   \n",
              "715281   rowyourchelle                    my tummy hurts  lazy day today!  \n",
              "944902   LittlestarRed  @NKOTB Hope You do know when You'll be back ag...  \n",
              "577494    Crazyharry77  Why do I have to install 8.2 all I want is 3.0...  \n",
              "199675     Jantunstill                            Just broke my bracelet   "
            ],
            "text/html": [
              "\n",
              "  <div id=\"df-74c47e1c-1daa-4d25-b83f-3884c597b30a\" class=\"colab-df-container\">\n",
              "    <div>\n",
              "<style scoped>\n",
              "    .dataframe tbody tr th:only-of-type {\n",
              "        vertical-align: middle;\n",
              "    }\n",
              "\n",
              "    .dataframe tbody tr th {\n",
              "        vertical-align: top;\n",
              "    }\n",
              "\n",
              "    .dataframe thead th {\n",
              "        text-align: right;\n",
              "    }\n",
              "</style>\n",
              "<table border=\"1\" class=\"dataframe\">\n",
              "  <thead>\n",
              "    <tr style=\"text-align: right;\">\n",
              "      <th></th>\n",
              "      <th>label</th>\n",
              "      <th>ids</th>\n",
              "      <th>data</th>\n",
              "      <th>flag</th>\n",
              "      <th>user</th>\n",
              "      <th>sentence</th>\n",
              "    </tr>\n",
              "  </thead>\n",
              "  <tbody>\n",
              "    <tr>\n",
              "      <th>1131681</th>\n",
              "      <td>4</td>\n",
              "      <td>1975895789</td>\n",
              "      <td>Sat May 30 16:08:10 PDT 2009</td>\n",
              "      <td>NO_QUERY</td>\n",
              "      <td>erinlynns</td>\n",
              "      <td>About to eat some sloppy meat soon</td>\n",
              "    </tr>\n",
              "    <tr>\n",
              "      <th>1480743</th>\n",
              "      <td>4</td>\n",
              "      <td>2066921606</td>\n",
              "      <td>Sun Jun 07 11:25:12 PDT 2009</td>\n",
              "      <td>NO_QUERY</td>\n",
              "      <td>RexMorgan1</td>\n",
              "      <td>wethers turning bbbbaaaadddd!!!!! b'day celebr...</td>\n",
              "    </tr>\n",
              "    <tr>\n",
              "      <th>748529</th>\n",
              "      <td>0</td>\n",
              "      <td>2284404311</td>\n",
              "      <td>Mon Jun 22 13:50:37 PDT 2009</td>\n",
              "      <td>NO_QUERY</td>\n",
              "      <td>Souszan</td>\n",
              "      <td>where is my boyfriend</td>\n",
              "    </tr>\n",
              "    <tr>\n",
              "      <th>796273</th>\n",
              "      <td>0</td>\n",
              "      <td>2327692681</td>\n",
              "      <td>Thu Jun 25 08:40:06 PDT 2009</td>\n",
              "      <td>NO_QUERY</td>\n",
              "      <td>TheMakeupBird</td>\n",
              "      <td>@peacelovepink09 OMG LUCKYYYY!!! i haven't eve...</td>\n",
              "    </tr>\n",
              "    <tr>\n",
              "      <th>442205</th>\n",
              "      <td>0</td>\n",
              "      <td>2067211561</td>\n",
              "      <td>Sun Jun 07 11:57:00 PDT 2009</td>\n",
              "      <td>NO_QUERY</td>\n",
              "      <td>angelsk</td>\n",
              "      <td>Urm, and I feel sick, why? Not good</td>\n",
              "    </tr>\n",
              "    <tr>\n",
              "      <th>1199520</th>\n",
              "      <td>4</td>\n",
              "      <td>1985330445</td>\n",
              "      <td>Sun May 31 16:53:49 PDT 2009</td>\n",
              "      <td>NO_QUERY</td>\n",
              "      <td>KennethScottH</td>\n",
              "      <td>PHILIP FIX THE CABLE!</td>\n",
              "    </tr>\n",
              "    <tr>\n",
              "      <th>715281</th>\n",
              "      <td>0</td>\n",
              "      <td>2259372194</td>\n",
              "      <td>Sat Jun 20 17:28:15 PDT 2009</td>\n",
              "      <td>NO_QUERY</td>\n",
              "      <td>rowyourchelle</td>\n",
              "      <td>my tummy hurts  lazy day today!</td>\n",
              "    </tr>\n",
              "    <tr>\n",
              "      <th>944902</th>\n",
              "      <td>4</td>\n",
              "      <td>1795855493</td>\n",
              "      <td>Thu May 14 08:29:02 PDT 2009</td>\n",
              "      <td>NO_QUERY</td>\n",
              "      <td>LittlestarRed</td>\n",
              "      <td>@NKOTB Hope You do know when You'll be back ag...</td>\n",
              "    </tr>\n",
              "    <tr>\n",
              "      <th>577494</th>\n",
              "      <td>0</td>\n",
              "      <td>2212575770</td>\n",
              "      <td>Wed Jun 17 14:15:59 PDT 2009</td>\n",
              "      <td>NO_QUERY</td>\n",
              "      <td>Crazyharry77</td>\n",
              "      <td>Why do I have to install 8.2 all I want is 3.0...</td>\n",
              "    </tr>\n",
              "    <tr>\n",
              "      <th>199675</th>\n",
              "      <td>0</td>\n",
              "      <td>1971493426</td>\n",
              "      <td>Sat May 30 07:14:26 PDT 2009</td>\n",
              "      <td>NO_QUERY</td>\n",
              "      <td>Jantunstill</td>\n",
              "      <td>Just broke my bracelet</td>\n",
              "    </tr>\n",
              "  </tbody>\n",
              "</table>\n",
              "</div>\n",
              "    <div class=\"colab-df-buttons\">\n",
              "\n",
              "  <div class=\"colab-df-container\">\n",
              "    <button class=\"colab-df-convert\" onclick=\"convertToInteractive('df-74c47e1c-1daa-4d25-b83f-3884c597b30a')\"\n",
              "            title=\"Convert this dataframe to an interactive table.\"\n",
              "            style=\"display:none;\">\n",
              "\n",
              "  <svg xmlns=\"http://www.w3.org/2000/svg\" height=\"24px\" viewBox=\"0 -960 960 960\">\n",
              "    <path d=\"M120-120v-720h720v720H120Zm60-500h600v-160H180v160Zm220 220h160v-160H400v160Zm0 220h160v-160H400v160ZM180-400h160v-160H180v160Zm440 0h160v-160H620v160ZM180-180h160v-160H180v160Zm440 0h160v-160H620v160Z\"/>\n",
              "  </svg>\n",
              "    </button>\n",
              "\n",
              "  <style>\n",
              "    .colab-df-container {\n",
              "      display:flex;\n",
              "      gap: 12px;\n",
              "    }\n",
              "\n",
              "    .colab-df-convert {\n",
              "      background-color: #E8F0FE;\n",
              "      border: none;\n",
              "      border-radius: 50%;\n",
              "      cursor: pointer;\n",
              "      display: none;\n",
              "      fill: #1967D2;\n",
              "      height: 32px;\n",
              "      padding: 0 0 0 0;\n",
              "      width: 32px;\n",
              "    }\n",
              "\n",
              "    .colab-df-convert:hover {\n",
              "      background-color: #E2EBFA;\n",
              "      box-shadow: 0px 1px 2px rgba(60, 64, 67, 0.3), 0px 1px 3px 1px rgba(60, 64, 67, 0.15);\n",
              "      fill: #174EA6;\n",
              "    }\n",
              "\n",
              "    .colab-df-buttons div {\n",
              "      margin-bottom: 4px;\n",
              "    }\n",
              "\n",
              "    [theme=dark] .colab-df-convert {\n",
              "      background-color: #3B4455;\n",
              "      fill: #D2E3FC;\n",
              "    }\n",
              "\n",
              "    [theme=dark] .colab-df-convert:hover {\n",
              "      background-color: #434B5C;\n",
              "      box-shadow: 0px 1px 3px 1px rgba(0, 0, 0, 0.15);\n",
              "      filter: drop-shadow(0px 1px 2px rgba(0, 0, 0, 0.3));\n",
              "      fill: #FFFFFF;\n",
              "    }\n",
              "  </style>\n",
              "\n",
              "    <script>\n",
              "      const buttonEl =\n",
              "        document.querySelector('#df-74c47e1c-1daa-4d25-b83f-3884c597b30a button.colab-df-convert');\n",
              "      buttonEl.style.display =\n",
              "        google.colab.kernel.accessAllowed ? 'block' : 'none';\n",
              "\n",
              "      async function convertToInteractive(key) {\n",
              "        const element = document.querySelector('#df-74c47e1c-1daa-4d25-b83f-3884c597b30a');\n",
              "        const dataTable =\n",
              "          await google.colab.kernel.invokeFunction('convertToInteractive',\n",
              "                                                    [key], {});\n",
              "        if (!dataTable) return;\n",
              "\n",
              "        const docLinkHtml = 'Like what you see? Visit the ' +\n",
              "          '<a target=\"_blank\" href=https://colab.research.google.com/notebooks/data_table.ipynb>data table notebook</a>'\n",
              "          + ' to learn more about interactive tables.';\n",
              "        element.innerHTML = '';\n",
              "        dataTable['output_type'] = 'display_data';\n",
              "        await google.colab.output.renderOutput(dataTable, element);\n",
              "        const docLink = document.createElement('div');\n",
              "        docLink.innerHTML = docLinkHtml;\n",
              "        element.appendChild(docLink);\n",
              "      }\n",
              "    </script>\n",
              "  </div>\n",
              "\n",
              "\n",
              "    <div id=\"df-421b43d4-f9b3-42e3-a87d-effb617761c9\">\n",
              "      <button class=\"colab-df-quickchart\" onclick=\"quickchart('df-421b43d4-f9b3-42e3-a87d-effb617761c9')\"\n",
              "                title=\"Suggest charts\"\n",
              "                style=\"display:none;\">\n",
              "\n",
              "<svg xmlns=\"http://www.w3.org/2000/svg\" height=\"24px\"viewBox=\"0 0 24 24\"\n",
              "     width=\"24px\">\n",
              "    <g>\n",
              "        <path d=\"M19 3H5c-1.1 0-2 .9-2 2v14c0 1.1.9 2 2 2h14c1.1 0 2-.9 2-2V5c0-1.1-.9-2-2-2zM9 17H7v-7h2v7zm4 0h-2V7h2v10zm4 0h-2v-4h2v4z\"/>\n",
              "    </g>\n",
              "</svg>\n",
              "      </button>\n",
              "\n",
              "<style>\n",
              "  .colab-df-quickchart {\n",
              "      --bg-color: #E8F0FE;\n",
              "      --fill-color: #1967D2;\n",
              "      --hover-bg-color: #E2EBFA;\n",
              "      --hover-fill-color: #174EA6;\n",
              "      --disabled-fill-color: #AAA;\n",
              "      --disabled-bg-color: #DDD;\n",
              "  }\n",
              "\n",
              "  [theme=dark] .colab-df-quickchart {\n",
              "      --bg-color: #3B4455;\n",
              "      --fill-color: #D2E3FC;\n",
              "      --hover-bg-color: #434B5C;\n",
              "      --hover-fill-color: #FFFFFF;\n",
              "      --disabled-bg-color: #3B4455;\n",
              "      --disabled-fill-color: #666;\n",
              "  }\n",
              "\n",
              "  .colab-df-quickchart {\n",
              "    background-color: var(--bg-color);\n",
              "    border: none;\n",
              "    border-radius: 50%;\n",
              "    cursor: pointer;\n",
              "    display: none;\n",
              "    fill: var(--fill-color);\n",
              "    height: 32px;\n",
              "    padding: 0;\n",
              "    width: 32px;\n",
              "  }\n",
              "\n",
              "  .colab-df-quickchart:hover {\n",
              "    background-color: var(--hover-bg-color);\n",
              "    box-shadow: 0 1px 2px rgba(60, 64, 67, 0.3), 0 1px 3px 1px rgba(60, 64, 67, 0.15);\n",
              "    fill: var(--button-hover-fill-color);\n",
              "  }\n",
              "\n",
              "  .colab-df-quickchart-complete:disabled,\n",
              "  .colab-df-quickchart-complete:disabled:hover {\n",
              "    background-color: var(--disabled-bg-color);\n",
              "    fill: var(--disabled-fill-color);\n",
              "    box-shadow: none;\n",
              "  }\n",
              "\n",
              "  .colab-df-spinner {\n",
              "    border: 2px solid var(--fill-color);\n",
              "    border-color: transparent;\n",
              "    border-bottom-color: var(--fill-color);\n",
              "    animation:\n",
              "      spin 1s steps(1) infinite;\n",
              "  }\n",
              "\n",
              "  @keyframes spin {\n",
              "    0% {\n",
              "      border-color: transparent;\n",
              "      border-bottom-color: var(--fill-color);\n",
              "      border-left-color: var(--fill-color);\n",
              "    }\n",
              "    20% {\n",
              "      border-color: transparent;\n",
              "      border-left-color: var(--fill-color);\n",
              "      border-top-color: var(--fill-color);\n",
              "    }\n",
              "    30% {\n",
              "      border-color: transparent;\n",
              "      border-left-color: var(--fill-color);\n",
              "      border-top-color: var(--fill-color);\n",
              "      border-right-color: var(--fill-color);\n",
              "    }\n",
              "    40% {\n",
              "      border-color: transparent;\n",
              "      border-right-color: var(--fill-color);\n",
              "      border-top-color: var(--fill-color);\n",
              "    }\n",
              "    60% {\n",
              "      border-color: transparent;\n",
              "      border-right-color: var(--fill-color);\n",
              "    }\n",
              "    80% {\n",
              "      border-color: transparent;\n",
              "      border-right-color: var(--fill-color);\n",
              "      border-bottom-color: var(--fill-color);\n",
              "    }\n",
              "    90% {\n",
              "      border-color: transparent;\n",
              "      border-bottom-color: var(--fill-color);\n",
              "    }\n",
              "  }\n",
              "</style>\n",
              "\n",
              "      <script>\n",
              "        async function quickchart(key) {\n",
              "          const quickchartButtonEl =\n",
              "            document.querySelector('#' + key + ' button');\n",
              "          quickchartButtonEl.disabled = true;  // To prevent multiple clicks.\n",
              "          quickchartButtonEl.classList.add('colab-df-spinner');\n",
              "          try {\n",
              "            const charts = await google.colab.kernel.invokeFunction(\n",
              "                'suggestCharts', [key], {});\n",
              "          } catch (error) {\n",
              "            console.error('Error during call to suggestCharts:', error);\n",
              "          }\n",
              "          quickchartButtonEl.classList.remove('colab-df-spinner');\n",
              "          quickchartButtonEl.classList.add('colab-df-quickchart-complete');\n",
              "        }\n",
              "        (() => {\n",
              "          let quickchartButtonEl =\n",
              "            document.querySelector('#df-421b43d4-f9b3-42e3-a87d-effb617761c9 button');\n",
              "          quickchartButtonEl.style.display =\n",
              "            google.colab.kernel.accessAllowed ? 'block' : 'none';\n",
              "        })();\n",
              "      </script>\n",
              "    </div>\n",
              "\n",
              "    </div>\n",
              "  </div>\n"
            ],
            "application/vnd.google.colaboratory.intrinsic+json": {
              "type": "dataframe",
              "summary": "{\n  \"name\": \"df\",\n  \"rows\": 10,\n  \"fields\": [\n    {\n      \"column\": \"label\",\n      \"properties\": {\n        \"dtype\": \"number\",\n        \"std\": 2,\n        \"min\": 0,\n        \"max\": 4,\n        \"num_unique_values\": 2,\n        \"samples\": [\n          0,\n          4\n        ],\n        \"semantic_type\": \"\",\n        \"description\": \"\"\n      }\n    },\n    {\n      \"column\": \"ids\",\n      \"properties\": {\n        \"dtype\": \"number\",\n        \"std\": 171067313,\n        \"min\": 1795855493,\n        \"max\": 2327692681,\n        \"num_unique_values\": 10,\n        \"samples\": [\n          2212575770,\n          2066921606\n        ],\n        \"semantic_type\": \"\",\n        \"description\": \"\"\n      }\n    },\n    {\n      \"column\": \"data\",\n      \"properties\": {\n        \"dtype\": \"string\",\n        \"num_unique_values\": 10,\n        \"samples\": [\n          \"Wed Jun 17 14:15:59 PDT 2009\",\n          \"Sun Jun 07 11:25:12 PDT 2009\"\n        ],\n        \"semantic_type\": \"\",\n        \"description\": \"\"\n      }\n    },\n    {\n      \"column\": \"flag\",\n      \"properties\": {\n        \"dtype\": \"category\",\n        \"num_unique_values\": 1,\n        \"samples\": [\n          \"NO_QUERY\"\n        ],\n        \"semantic_type\": \"\",\n        \"description\": \"\"\n      }\n    },\n    {\n      \"column\": \"user\",\n      \"properties\": {\n        \"dtype\": \"string\",\n        \"num_unique_values\": 10,\n        \"samples\": [\n          \"Crazyharry77\"\n        ],\n        \"semantic_type\": \"\",\n        \"description\": \"\"\n      }\n    },\n    {\n      \"column\": \"sentence\",\n      \"properties\": {\n        \"dtype\": \"string\",\n        \"num_unique_values\": 10,\n        \"samples\": [\n          \"Why do I have to install 8.2 all I want is 3.0  #iPhone\"\n        ],\n        \"semantic_type\": \"\",\n        \"description\": \"\"\n      }\n    }\n  ]\n}"
            }
          },
          "metadata": {},
          "execution_count": 58
        }
      ],
      "execution_count": 58
    },
    {
      "cell_type": "markdown",
      "source": [
        "Displaying labels"
      ],
      "metadata": {
        "id": "y5kFXy0zk7LI"
      }
    },
    {
      "cell_type": "code",
      "source": [
        "print(df['label'].unique())\n"
      ],
      "metadata": {
        "id": "V4XE-s0yg3BL",
        "outputId": "ca7276fa-8d32-496b-a66b-e92fe4b999c9",
        "colab": {
          "base_uri": "https://localhost:8080/"
        }
      },
      "execution_count": 59,
      "outputs": [
        {
          "output_type": "stream",
          "name": "stdout",
          "text": [
            "[0 4]\n"
          ]
        }
      ]
    },
    {
      "cell_type": "markdown",
      "source": [
        "Holding required features for training model"
      ],
      "metadata": {
        "id": "Ijm4NXeek_ys"
      }
    },
    {
      "cell_type": "code",
      "source": [
        "df = df[['label' ,'sentence']]\n",
        "df = df.copy()\n",
        "df['label'] = df['label'].replace({0: 0, 4: 1})\n",
        "df"
      ],
      "metadata": {
        "trusted": true,
        "execution": {
          "iopub.status.busy": "2025-04-26T00:22:46.921860Z",
          "iopub.execute_input": "2025-04-26T00:22:46.922183Z",
          "iopub.status.idle": "2025-04-26T00:22:47.046908Z",
          "shell.execute_reply.started": "2025-04-26T00:22:46.922130Z",
          "shell.execute_reply": "2025-04-26T00:22:47.046086Z"
        },
        "colab": {
          "base_uri": "https://localhost:8080/",
          "height": 424
        },
        "id": "MwMqbwZ8fMAC",
        "outputId": "40450e92-fa5b-4a33-a0b5-d460ef93763b"
      },
      "outputs": [
        {
          "output_type": "execute_result",
          "data": {
            "text/plain": [
              "         label                                           sentence\n",
              "0            0  @switchfoot http://twitpic.com/2y1zl - Awww, t...\n",
              "1            0  is upset that he can't update his Facebook by ...\n",
              "2            0  @Kenichan I dived many times for the ball. Man...\n",
              "3            0    my whole body feels itchy and like its on fire \n",
              "4            0  @nationwideclass no, it's not behaving at all....\n",
              "...        ...                                                ...\n",
              "1599995      1  Just woke up. Having no school is the best fee...\n",
              "1599996      1  TheWDB.com - Very cool to hear old Walt interv...\n",
              "1599997      1  Are you ready for your MoJo Makeover? Ask me f...\n",
              "1599998      1  Happy 38th Birthday to my boo of alll time!!! ...\n",
              "1599999      1  happy #charitytuesday @theNSPCC @SparksCharity...\n",
              "\n",
              "[1600000 rows x 2 columns]"
            ],
            "text/html": [
              "\n",
              "  <div id=\"df-6bfcfe35-ddf9-42fa-af33-53bd053edcf2\" class=\"colab-df-container\">\n",
              "    <div>\n",
              "<style scoped>\n",
              "    .dataframe tbody tr th:only-of-type {\n",
              "        vertical-align: middle;\n",
              "    }\n",
              "\n",
              "    .dataframe tbody tr th {\n",
              "        vertical-align: top;\n",
              "    }\n",
              "\n",
              "    .dataframe thead th {\n",
              "        text-align: right;\n",
              "    }\n",
              "</style>\n",
              "<table border=\"1\" class=\"dataframe\">\n",
              "  <thead>\n",
              "    <tr style=\"text-align: right;\">\n",
              "      <th></th>\n",
              "      <th>label</th>\n",
              "      <th>sentence</th>\n",
              "    </tr>\n",
              "  </thead>\n",
              "  <tbody>\n",
              "    <tr>\n",
              "      <th>0</th>\n",
              "      <td>0</td>\n",
              "      <td>@switchfoot http://twitpic.com/2y1zl - Awww, t...</td>\n",
              "    </tr>\n",
              "    <tr>\n",
              "      <th>1</th>\n",
              "      <td>0</td>\n",
              "      <td>is upset that he can't update his Facebook by ...</td>\n",
              "    </tr>\n",
              "    <tr>\n",
              "      <th>2</th>\n",
              "      <td>0</td>\n",
              "      <td>@Kenichan I dived many times for the ball. Man...</td>\n",
              "    </tr>\n",
              "    <tr>\n",
              "      <th>3</th>\n",
              "      <td>0</td>\n",
              "      <td>my whole body feels itchy and like its on fire</td>\n",
              "    </tr>\n",
              "    <tr>\n",
              "      <th>4</th>\n",
              "      <td>0</td>\n",
              "      <td>@nationwideclass no, it's not behaving at all....</td>\n",
              "    </tr>\n",
              "    <tr>\n",
              "      <th>...</th>\n",
              "      <td>...</td>\n",
              "      <td>...</td>\n",
              "    </tr>\n",
              "    <tr>\n",
              "      <th>1599995</th>\n",
              "      <td>1</td>\n",
              "      <td>Just woke up. Having no school is the best fee...</td>\n",
              "    </tr>\n",
              "    <tr>\n",
              "      <th>1599996</th>\n",
              "      <td>1</td>\n",
              "      <td>TheWDB.com - Very cool to hear old Walt interv...</td>\n",
              "    </tr>\n",
              "    <tr>\n",
              "      <th>1599997</th>\n",
              "      <td>1</td>\n",
              "      <td>Are you ready for your MoJo Makeover? Ask me f...</td>\n",
              "    </tr>\n",
              "    <tr>\n",
              "      <th>1599998</th>\n",
              "      <td>1</td>\n",
              "      <td>Happy 38th Birthday to my boo of alll time!!! ...</td>\n",
              "    </tr>\n",
              "    <tr>\n",
              "      <th>1599999</th>\n",
              "      <td>1</td>\n",
              "      <td>happy #charitytuesday @theNSPCC @SparksCharity...</td>\n",
              "    </tr>\n",
              "  </tbody>\n",
              "</table>\n",
              "<p>1600000 rows × 2 columns</p>\n",
              "</div>\n",
              "    <div class=\"colab-df-buttons\">\n",
              "\n",
              "  <div class=\"colab-df-container\">\n",
              "    <button class=\"colab-df-convert\" onclick=\"convertToInteractive('df-6bfcfe35-ddf9-42fa-af33-53bd053edcf2')\"\n",
              "            title=\"Convert this dataframe to an interactive table.\"\n",
              "            style=\"display:none;\">\n",
              "\n",
              "  <svg xmlns=\"http://www.w3.org/2000/svg\" height=\"24px\" viewBox=\"0 -960 960 960\">\n",
              "    <path d=\"M120-120v-720h720v720H120Zm60-500h600v-160H180v160Zm220 220h160v-160H400v160Zm0 220h160v-160H400v160ZM180-400h160v-160H180v160Zm440 0h160v-160H620v160ZM180-180h160v-160H180v160Zm440 0h160v-160H620v160Z\"/>\n",
              "  </svg>\n",
              "    </button>\n",
              "\n",
              "  <style>\n",
              "    .colab-df-container {\n",
              "      display:flex;\n",
              "      gap: 12px;\n",
              "    }\n",
              "\n",
              "    .colab-df-convert {\n",
              "      background-color: #E8F0FE;\n",
              "      border: none;\n",
              "      border-radius: 50%;\n",
              "      cursor: pointer;\n",
              "      display: none;\n",
              "      fill: #1967D2;\n",
              "      height: 32px;\n",
              "      padding: 0 0 0 0;\n",
              "      width: 32px;\n",
              "    }\n",
              "\n",
              "    .colab-df-convert:hover {\n",
              "      background-color: #E2EBFA;\n",
              "      box-shadow: 0px 1px 2px rgba(60, 64, 67, 0.3), 0px 1px 3px 1px rgba(60, 64, 67, 0.15);\n",
              "      fill: #174EA6;\n",
              "    }\n",
              "\n",
              "    .colab-df-buttons div {\n",
              "      margin-bottom: 4px;\n",
              "    }\n",
              "\n",
              "    [theme=dark] .colab-df-convert {\n",
              "      background-color: #3B4455;\n",
              "      fill: #D2E3FC;\n",
              "    }\n",
              "\n",
              "    [theme=dark] .colab-df-convert:hover {\n",
              "      background-color: #434B5C;\n",
              "      box-shadow: 0px 1px 3px 1px rgba(0, 0, 0, 0.15);\n",
              "      filter: drop-shadow(0px 1px 2px rgba(0, 0, 0, 0.3));\n",
              "      fill: #FFFFFF;\n",
              "    }\n",
              "  </style>\n",
              "\n",
              "    <script>\n",
              "      const buttonEl =\n",
              "        document.querySelector('#df-6bfcfe35-ddf9-42fa-af33-53bd053edcf2 button.colab-df-convert');\n",
              "      buttonEl.style.display =\n",
              "        google.colab.kernel.accessAllowed ? 'block' : 'none';\n",
              "\n",
              "      async function convertToInteractive(key) {\n",
              "        const element = document.querySelector('#df-6bfcfe35-ddf9-42fa-af33-53bd053edcf2');\n",
              "        const dataTable =\n",
              "          await google.colab.kernel.invokeFunction('convertToInteractive',\n",
              "                                                    [key], {});\n",
              "        if (!dataTable) return;\n",
              "\n",
              "        const docLinkHtml = 'Like what you see? Visit the ' +\n",
              "          '<a target=\"_blank\" href=https://colab.research.google.com/notebooks/data_table.ipynb>data table notebook</a>'\n",
              "          + ' to learn more about interactive tables.';\n",
              "        element.innerHTML = '';\n",
              "        dataTable['output_type'] = 'display_data';\n",
              "        await google.colab.output.renderOutput(dataTable, element);\n",
              "        const docLink = document.createElement('div');\n",
              "        docLink.innerHTML = docLinkHtml;\n",
              "        element.appendChild(docLink);\n",
              "      }\n",
              "    </script>\n",
              "  </div>\n",
              "\n",
              "\n",
              "    <div id=\"df-779afb43-2261-41c0-81c5-608e0d40b6a5\">\n",
              "      <button class=\"colab-df-quickchart\" onclick=\"quickchart('df-779afb43-2261-41c0-81c5-608e0d40b6a5')\"\n",
              "                title=\"Suggest charts\"\n",
              "                style=\"display:none;\">\n",
              "\n",
              "<svg xmlns=\"http://www.w3.org/2000/svg\" height=\"24px\"viewBox=\"0 0 24 24\"\n",
              "     width=\"24px\">\n",
              "    <g>\n",
              "        <path d=\"M19 3H5c-1.1 0-2 .9-2 2v14c0 1.1.9 2 2 2h14c1.1 0 2-.9 2-2V5c0-1.1-.9-2-2-2zM9 17H7v-7h2v7zm4 0h-2V7h2v10zm4 0h-2v-4h2v4z\"/>\n",
              "    </g>\n",
              "</svg>\n",
              "      </button>\n",
              "\n",
              "<style>\n",
              "  .colab-df-quickchart {\n",
              "      --bg-color: #E8F0FE;\n",
              "      --fill-color: #1967D2;\n",
              "      --hover-bg-color: #E2EBFA;\n",
              "      --hover-fill-color: #174EA6;\n",
              "      --disabled-fill-color: #AAA;\n",
              "      --disabled-bg-color: #DDD;\n",
              "  }\n",
              "\n",
              "  [theme=dark] .colab-df-quickchart {\n",
              "      --bg-color: #3B4455;\n",
              "      --fill-color: #D2E3FC;\n",
              "      --hover-bg-color: #434B5C;\n",
              "      --hover-fill-color: #FFFFFF;\n",
              "      --disabled-bg-color: #3B4455;\n",
              "      --disabled-fill-color: #666;\n",
              "  }\n",
              "\n",
              "  .colab-df-quickchart {\n",
              "    background-color: var(--bg-color);\n",
              "    border: none;\n",
              "    border-radius: 50%;\n",
              "    cursor: pointer;\n",
              "    display: none;\n",
              "    fill: var(--fill-color);\n",
              "    height: 32px;\n",
              "    padding: 0;\n",
              "    width: 32px;\n",
              "  }\n",
              "\n",
              "  .colab-df-quickchart:hover {\n",
              "    background-color: var(--hover-bg-color);\n",
              "    box-shadow: 0 1px 2px rgba(60, 64, 67, 0.3), 0 1px 3px 1px rgba(60, 64, 67, 0.15);\n",
              "    fill: var(--button-hover-fill-color);\n",
              "  }\n",
              "\n",
              "  .colab-df-quickchart-complete:disabled,\n",
              "  .colab-df-quickchart-complete:disabled:hover {\n",
              "    background-color: var(--disabled-bg-color);\n",
              "    fill: var(--disabled-fill-color);\n",
              "    box-shadow: none;\n",
              "  }\n",
              "\n",
              "  .colab-df-spinner {\n",
              "    border: 2px solid var(--fill-color);\n",
              "    border-color: transparent;\n",
              "    border-bottom-color: var(--fill-color);\n",
              "    animation:\n",
              "      spin 1s steps(1) infinite;\n",
              "  }\n",
              "\n",
              "  @keyframes spin {\n",
              "    0% {\n",
              "      border-color: transparent;\n",
              "      border-bottom-color: var(--fill-color);\n",
              "      border-left-color: var(--fill-color);\n",
              "    }\n",
              "    20% {\n",
              "      border-color: transparent;\n",
              "      border-left-color: var(--fill-color);\n",
              "      border-top-color: var(--fill-color);\n",
              "    }\n",
              "    30% {\n",
              "      border-color: transparent;\n",
              "      border-left-color: var(--fill-color);\n",
              "      border-top-color: var(--fill-color);\n",
              "      border-right-color: var(--fill-color);\n",
              "    }\n",
              "    40% {\n",
              "      border-color: transparent;\n",
              "      border-right-color: var(--fill-color);\n",
              "      border-top-color: var(--fill-color);\n",
              "    }\n",
              "    60% {\n",
              "      border-color: transparent;\n",
              "      border-right-color: var(--fill-color);\n",
              "    }\n",
              "    80% {\n",
              "      border-color: transparent;\n",
              "      border-right-color: var(--fill-color);\n",
              "      border-bottom-color: var(--fill-color);\n",
              "    }\n",
              "    90% {\n",
              "      border-color: transparent;\n",
              "      border-bottom-color: var(--fill-color);\n",
              "    }\n",
              "  }\n",
              "</style>\n",
              "\n",
              "      <script>\n",
              "        async function quickchart(key) {\n",
              "          const quickchartButtonEl =\n",
              "            document.querySelector('#' + key + ' button');\n",
              "          quickchartButtonEl.disabled = true;  // To prevent multiple clicks.\n",
              "          quickchartButtonEl.classList.add('colab-df-spinner');\n",
              "          try {\n",
              "            const charts = await google.colab.kernel.invokeFunction(\n",
              "                'suggestCharts', [key], {});\n",
              "          } catch (error) {\n",
              "            console.error('Error during call to suggestCharts:', error);\n",
              "          }\n",
              "          quickchartButtonEl.classList.remove('colab-df-spinner');\n",
              "          quickchartButtonEl.classList.add('colab-df-quickchart-complete');\n",
              "        }\n",
              "        (() => {\n",
              "          let quickchartButtonEl =\n",
              "            document.querySelector('#df-779afb43-2261-41c0-81c5-608e0d40b6a5 button');\n",
              "          quickchartButtonEl.style.display =\n",
              "            google.colab.kernel.accessAllowed ? 'block' : 'none';\n",
              "        })();\n",
              "      </script>\n",
              "    </div>\n",
              "\n",
              "  <div id=\"id_d8689da6-431a-4f7b-bc7f-a99b04020d99\">\n",
              "    <style>\n",
              "      .colab-df-generate {\n",
              "        background-color: #E8F0FE;\n",
              "        border: none;\n",
              "        border-radius: 50%;\n",
              "        cursor: pointer;\n",
              "        display: none;\n",
              "        fill: #1967D2;\n",
              "        height: 32px;\n",
              "        padding: 0 0 0 0;\n",
              "        width: 32px;\n",
              "      }\n",
              "\n",
              "      .colab-df-generate:hover {\n",
              "        background-color: #E2EBFA;\n",
              "        box-shadow: 0px 1px 2px rgba(60, 64, 67, 0.3), 0px 1px 3px 1px rgba(60, 64, 67, 0.15);\n",
              "        fill: #174EA6;\n",
              "      }\n",
              "\n",
              "      [theme=dark] .colab-df-generate {\n",
              "        background-color: #3B4455;\n",
              "        fill: #D2E3FC;\n",
              "      }\n",
              "\n",
              "      [theme=dark] .colab-df-generate:hover {\n",
              "        background-color: #434B5C;\n",
              "        box-shadow: 0px 1px 3px 1px rgba(0, 0, 0, 0.15);\n",
              "        filter: drop-shadow(0px 1px 2px rgba(0, 0, 0, 0.3));\n",
              "        fill: #FFFFFF;\n",
              "      }\n",
              "    </style>\n",
              "    <button class=\"colab-df-generate\" onclick=\"generateWithVariable('df')\"\n",
              "            title=\"Generate code using this dataframe.\"\n",
              "            style=\"display:none;\">\n",
              "\n",
              "  <svg xmlns=\"http://www.w3.org/2000/svg\" height=\"24px\"viewBox=\"0 0 24 24\"\n",
              "       width=\"24px\">\n",
              "    <path d=\"M7,19H8.4L18.45,9,17,7.55,7,17.6ZM5,21V16.75L18.45,3.32a2,2,0,0,1,2.83,0l1.4,1.43a1.91,1.91,0,0,1,.58,1.4,1.91,1.91,0,0,1-.58,1.4L9.25,21ZM18.45,9,17,7.55Zm-12,3A5.31,5.31,0,0,0,4.9,8.1,5.31,5.31,0,0,0,1,6.5,5.31,5.31,0,0,0,4.9,4.9,5.31,5.31,0,0,0,6.5,1,5.31,5.31,0,0,0,8.1,4.9,5.31,5.31,0,0,0,12,6.5,5.46,5.46,0,0,0,6.5,12Z\"/>\n",
              "  </svg>\n",
              "    </button>\n",
              "    <script>\n",
              "      (() => {\n",
              "      const buttonEl =\n",
              "        document.querySelector('#id_d8689da6-431a-4f7b-bc7f-a99b04020d99 button.colab-df-generate');\n",
              "      buttonEl.style.display =\n",
              "        google.colab.kernel.accessAllowed ? 'block' : 'none';\n",
              "\n",
              "      buttonEl.onclick = () => {\n",
              "        google.colab.notebook.generateWithVariable('df');\n",
              "      }\n",
              "      })();\n",
              "    </script>\n",
              "  </div>\n",
              "\n",
              "    </div>\n",
              "  </div>\n"
            ],
            "application/vnd.google.colaboratory.intrinsic+json": {
              "type": "dataframe",
              "variable_name": "df"
            }
          },
          "metadata": {},
          "execution_count": 60
        }
      ],
      "execution_count": 60
    },
    {
      "cell_type": "code",
      "source": [
        "#DISPLAIYNG COUNT OF EACH LABEL\n",
        "label_counts = df['label'].value_counts()\n",
        "print(label_counts)"
      ],
      "metadata": {
        "trusted": true,
        "execution": {
          "iopub.status.busy": "2025-04-26T00:22:50.740188Z",
          "iopub.execute_input": "2025-04-26T00:22:50.740443Z",
          "iopub.status.idle": "2025-04-26T00:22:50.754361Z",
          "shell.execute_reply.started": "2025-04-26T00:22:50.740421Z",
          "shell.execute_reply": "2025-04-26T00:22:50.753460Z"
        },
        "colab": {
          "base_uri": "https://localhost:8080/"
        },
        "id": "n2QxDD7-fMAC",
        "outputId": "5f9da342-6939-40e3-b66f-70b16859b638"
      },
      "outputs": [
        {
          "output_type": "stream",
          "name": "stdout",
          "text": [
            "label\n",
            "0    800000\n",
            "1    800000\n",
            "Name: count, dtype: int64\n"
          ]
        }
      ],
      "execution_count": 61
    },
    {
      "cell_type": "code",
      "source": [
        "# INTSALL THRE EMOJI MOUDULE USED IN THE DATA PREPROCESSING\n",
        "!pip install emoji\n"
      ],
      "metadata": {
        "colab": {
          "base_uri": "https://localhost:8080/"
        },
        "id": "8gFHOakjBRlk",
        "outputId": "b6b9c3cf-4baf-4c25-a8f1-081ac5df9c9d"
      },
      "execution_count": 62,
      "outputs": [
        {
          "output_type": "stream",
          "name": "stdout",
          "text": [
            "Requirement already satisfied: emoji in /usr/local/lib/python3.11/dist-packages (2.14.1)\n"
          ]
        }
      ]
    },
    {
      "cell_type": "markdown",
      "source": [
        "Preprocessing"
      ],
      "metadata": {
        "id": "i18dZtaPfCaR"
      }
    },
    {
      "cell_type": "code",
      "source": [
        "import re\n",
        "from emoji import demojize\n",
        "\n",
        "def preprocess_tweet(text):\n",
        "    text = text.lower()\n",
        "    text = re.sub(r\"http\\S+|www\\S+|https\\S+\", '', text, flags=re.MULTILINE)  # remove URLs\n",
        "    text = re.sub(r'@\\w+', '', text)  # remove @mentions\n",
        "    text = re.sub(r'#', '', text)  # remove hashtags\n",
        "    text = demojize(text)  # convert emojis to text\n",
        "    text = re.sub(r'\\s+', ' ', text).strip()  # remove extra spaces\n",
        "    return text"
      ],
      "metadata": {
        "trusted": true,
        "execution": {
          "iopub.status.busy": "2025-04-26T00:22:52.741003Z",
          "iopub.execute_input": "2025-04-26T00:22:52.741268Z",
          "iopub.status.idle": "2025-04-26T00:22:52.746023Z",
          "shell.execute_reply.started": "2025-04-26T00:22:52.741247Z",
          "shell.execute_reply": "2025-04-26T00:22:52.745290Z"
        },
        "id": "LncZk6UefMAC"
      },
      "outputs": [],
      "execution_count": 63
    },
    {
      "cell_type": "markdown",
      "source": [
        "#read cleaned datatset"
      ],
      "metadata": {
        "id": "A5iVXjO-iErZ"
      }
    },
    {
      "cell_type": "code",
      "source": [
        "#APPLYING THE PREPROCESSING\n",
        "df['clened text'] = df['sentence'].apply(preprocess_tweet)"
      ],
      "metadata": {
        "trusted": true,
        "execution": {
          "iopub.status.busy": "2025-04-26T00:22:55.939779Z",
          "iopub.execute_input": "2025-04-26T00:22:55.940039Z",
          "iopub.status.idle": "2025-04-26T00:24:18.393857Z",
          "shell.execute_reply.started": "2025-04-26T00:22:55.940019Z",
          "shell.execute_reply": "2025-04-26T00:24:18.393034Z"
        },
        "id": "hzvhBlU_fMAC"
      },
      "outputs": [],
      "execution_count": 64
    },
    {
      "cell_type": "code",
      "source": [
        "df.head()"
      ],
      "metadata": {
        "trusted": true,
        "execution": {
          "iopub.status.busy": "2025-04-26T00:24:18.395199Z",
          "iopub.execute_input": "2025-04-26T00:24:18.395415Z",
          "iopub.status.idle": "2025-04-26T00:24:18.403849Z",
          "shell.execute_reply.started": "2025-04-26T00:24:18.395397Z",
          "shell.execute_reply": "2025-04-26T00:24:18.402892Z"
        },
        "id": "AyJqGYw0fMAD",
        "outputId": "7a5e1ce8-6a6e-4977-9c49-012b6ca082ab",
        "colab": {
          "base_uri": "https://localhost:8080/",
          "height": 206
        }
      },
      "outputs": [
        {
          "output_type": "execute_result",
          "data": {
            "text/plain": [
              "   label                                           sentence  \\\n",
              "0      0  @switchfoot http://twitpic.com/2y1zl - Awww, t...   \n",
              "1      0  is upset that he can't update his Facebook by ...   \n",
              "2      0  @Kenichan I dived many times for the ball. Man...   \n",
              "3      0    my whole body feels itchy and like its on fire    \n",
              "4      0  @nationwideclass no, it's not behaving at all....   \n",
              "\n",
              "                                         clened text  \n",
              "0  - a that's a bummer. you shoulda got david car...  \n",
              "1  is upset that he can't update his facebook by ...  \n",
              "2  i dived many times for the ball. managed to sa...  \n",
              "3     my whole body feels itchy and like its on fire  \n",
              "4  no, it's not behaving at all. i'm mad. why am ...  "
            ],
            "text/html": [
              "\n",
              "  <div id=\"df-ecc218a6-98c1-49b5-8ad8-904f89eda386\" class=\"colab-df-container\">\n",
              "    <div>\n",
              "<style scoped>\n",
              "    .dataframe tbody tr th:only-of-type {\n",
              "        vertical-align: middle;\n",
              "    }\n",
              "\n",
              "    .dataframe tbody tr th {\n",
              "        vertical-align: top;\n",
              "    }\n",
              "\n",
              "    .dataframe thead th {\n",
              "        text-align: right;\n",
              "    }\n",
              "</style>\n",
              "<table border=\"1\" class=\"dataframe\">\n",
              "  <thead>\n",
              "    <tr style=\"text-align: right;\">\n",
              "      <th></th>\n",
              "      <th>label</th>\n",
              "      <th>sentence</th>\n",
              "      <th>clened text</th>\n",
              "    </tr>\n",
              "  </thead>\n",
              "  <tbody>\n",
              "    <tr>\n",
              "      <th>0</th>\n",
              "      <td>0</td>\n",
              "      <td>@switchfoot http://twitpic.com/2y1zl - Awww, t...</td>\n",
              "      <td>- a that's a bummer. you shoulda got david car...</td>\n",
              "    </tr>\n",
              "    <tr>\n",
              "      <th>1</th>\n",
              "      <td>0</td>\n",
              "      <td>is upset that he can't update his Facebook by ...</td>\n",
              "      <td>is upset that he can't update his facebook by ...</td>\n",
              "    </tr>\n",
              "    <tr>\n",
              "      <th>2</th>\n",
              "      <td>0</td>\n",
              "      <td>@Kenichan I dived many times for the ball. Man...</td>\n",
              "      <td>i dived many times for the ball. managed to sa...</td>\n",
              "    </tr>\n",
              "    <tr>\n",
              "      <th>3</th>\n",
              "      <td>0</td>\n",
              "      <td>my whole body feels itchy and like its on fire</td>\n",
              "      <td>my whole body feels itchy and like its on fire</td>\n",
              "    </tr>\n",
              "    <tr>\n",
              "      <th>4</th>\n",
              "      <td>0</td>\n",
              "      <td>@nationwideclass no, it's not behaving at all....</td>\n",
              "      <td>no, it's not behaving at all. i'm mad. why am ...</td>\n",
              "    </tr>\n",
              "  </tbody>\n",
              "</table>\n",
              "</div>\n",
              "    <div class=\"colab-df-buttons\">\n",
              "\n",
              "  <div class=\"colab-df-container\">\n",
              "    <button class=\"colab-df-convert\" onclick=\"convertToInteractive('df-ecc218a6-98c1-49b5-8ad8-904f89eda386')\"\n",
              "            title=\"Convert this dataframe to an interactive table.\"\n",
              "            style=\"display:none;\">\n",
              "\n",
              "  <svg xmlns=\"http://www.w3.org/2000/svg\" height=\"24px\" viewBox=\"0 -960 960 960\">\n",
              "    <path d=\"M120-120v-720h720v720H120Zm60-500h600v-160H180v160Zm220 220h160v-160H400v160Zm0 220h160v-160H400v160ZM180-400h160v-160H180v160Zm440 0h160v-160H620v160ZM180-180h160v-160H180v160Zm440 0h160v-160H620v160Z\"/>\n",
              "  </svg>\n",
              "    </button>\n",
              "\n",
              "  <style>\n",
              "    .colab-df-container {\n",
              "      display:flex;\n",
              "      gap: 12px;\n",
              "    }\n",
              "\n",
              "    .colab-df-convert {\n",
              "      background-color: #E8F0FE;\n",
              "      border: none;\n",
              "      border-radius: 50%;\n",
              "      cursor: pointer;\n",
              "      display: none;\n",
              "      fill: #1967D2;\n",
              "      height: 32px;\n",
              "      padding: 0 0 0 0;\n",
              "      width: 32px;\n",
              "    }\n",
              "\n",
              "    .colab-df-convert:hover {\n",
              "      background-color: #E2EBFA;\n",
              "      box-shadow: 0px 1px 2px rgba(60, 64, 67, 0.3), 0px 1px 3px 1px rgba(60, 64, 67, 0.15);\n",
              "      fill: #174EA6;\n",
              "    }\n",
              "\n",
              "    .colab-df-buttons div {\n",
              "      margin-bottom: 4px;\n",
              "    }\n",
              "\n",
              "    [theme=dark] .colab-df-convert {\n",
              "      background-color: #3B4455;\n",
              "      fill: #D2E3FC;\n",
              "    }\n",
              "\n",
              "    [theme=dark] .colab-df-convert:hover {\n",
              "      background-color: #434B5C;\n",
              "      box-shadow: 0px 1px 3px 1px rgba(0, 0, 0, 0.15);\n",
              "      filter: drop-shadow(0px 1px 2px rgba(0, 0, 0, 0.3));\n",
              "      fill: #FFFFFF;\n",
              "    }\n",
              "  </style>\n",
              "\n",
              "    <script>\n",
              "      const buttonEl =\n",
              "        document.querySelector('#df-ecc218a6-98c1-49b5-8ad8-904f89eda386 button.colab-df-convert');\n",
              "      buttonEl.style.display =\n",
              "        google.colab.kernel.accessAllowed ? 'block' : 'none';\n",
              "\n",
              "      async function convertToInteractive(key) {\n",
              "        const element = document.querySelector('#df-ecc218a6-98c1-49b5-8ad8-904f89eda386');\n",
              "        const dataTable =\n",
              "          await google.colab.kernel.invokeFunction('convertToInteractive',\n",
              "                                                    [key], {});\n",
              "        if (!dataTable) return;\n",
              "\n",
              "        const docLinkHtml = 'Like what you see? Visit the ' +\n",
              "          '<a target=\"_blank\" href=https://colab.research.google.com/notebooks/data_table.ipynb>data table notebook</a>'\n",
              "          + ' to learn more about interactive tables.';\n",
              "        element.innerHTML = '';\n",
              "        dataTable['output_type'] = 'display_data';\n",
              "        await google.colab.output.renderOutput(dataTable, element);\n",
              "        const docLink = document.createElement('div');\n",
              "        docLink.innerHTML = docLinkHtml;\n",
              "        element.appendChild(docLink);\n",
              "      }\n",
              "    </script>\n",
              "  </div>\n",
              "\n",
              "\n",
              "    <div id=\"df-460f963b-4f46-4e66-9ebe-02cb89dbfa59\">\n",
              "      <button class=\"colab-df-quickchart\" onclick=\"quickchart('df-460f963b-4f46-4e66-9ebe-02cb89dbfa59')\"\n",
              "                title=\"Suggest charts\"\n",
              "                style=\"display:none;\">\n",
              "\n",
              "<svg xmlns=\"http://www.w3.org/2000/svg\" height=\"24px\"viewBox=\"0 0 24 24\"\n",
              "     width=\"24px\">\n",
              "    <g>\n",
              "        <path d=\"M19 3H5c-1.1 0-2 .9-2 2v14c0 1.1.9 2 2 2h14c1.1 0 2-.9 2-2V5c0-1.1-.9-2-2-2zM9 17H7v-7h2v7zm4 0h-2V7h2v10zm4 0h-2v-4h2v4z\"/>\n",
              "    </g>\n",
              "</svg>\n",
              "      </button>\n",
              "\n",
              "<style>\n",
              "  .colab-df-quickchart {\n",
              "      --bg-color: #E8F0FE;\n",
              "      --fill-color: #1967D2;\n",
              "      --hover-bg-color: #E2EBFA;\n",
              "      --hover-fill-color: #174EA6;\n",
              "      --disabled-fill-color: #AAA;\n",
              "      --disabled-bg-color: #DDD;\n",
              "  }\n",
              "\n",
              "  [theme=dark] .colab-df-quickchart {\n",
              "      --bg-color: #3B4455;\n",
              "      --fill-color: #D2E3FC;\n",
              "      --hover-bg-color: #434B5C;\n",
              "      --hover-fill-color: #FFFFFF;\n",
              "      --disabled-bg-color: #3B4455;\n",
              "      --disabled-fill-color: #666;\n",
              "  }\n",
              "\n",
              "  .colab-df-quickchart {\n",
              "    background-color: var(--bg-color);\n",
              "    border: none;\n",
              "    border-radius: 50%;\n",
              "    cursor: pointer;\n",
              "    display: none;\n",
              "    fill: var(--fill-color);\n",
              "    height: 32px;\n",
              "    padding: 0;\n",
              "    width: 32px;\n",
              "  }\n",
              "\n",
              "  .colab-df-quickchart:hover {\n",
              "    background-color: var(--hover-bg-color);\n",
              "    box-shadow: 0 1px 2px rgba(60, 64, 67, 0.3), 0 1px 3px 1px rgba(60, 64, 67, 0.15);\n",
              "    fill: var(--button-hover-fill-color);\n",
              "  }\n",
              "\n",
              "  .colab-df-quickchart-complete:disabled,\n",
              "  .colab-df-quickchart-complete:disabled:hover {\n",
              "    background-color: var(--disabled-bg-color);\n",
              "    fill: var(--disabled-fill-color);\n",
              "    box-shadow: none;\n",
              "  }\n",
              "\n",
              "  .colab-df-spinner {\n",
              "    border: 2px solid var(--fill-color);\n",
              "    border-color: transparent;\n",
              "    border-bottom-color: var(--fill-color);\n",
              "    animation:\n",
              "      spin 1s steps(1) infinite;\n",
              "  }\n",
              "\n",
              "  @keyframes spin {\n",
              "    0% {\n",
              "      border-color: transparent;\n",
              "      border-bottom-color: var(--fill-color);\n",
              "      border-left-color: var(--fill-color);\n",
              "    }\n",
              "    20% {\n",
              "      border-color: transparent;\n",
              "      border-left-color: var(--fill-color);\n",
              "      border-top-color: var(--fill-color);\n",
              "    }\n",
              "    30% {\n",
              "      border-color: transparent;\n",
              "      border-left-color: var(--fill-color);\n",
              "      border-top-color: var(--fill-color);\n",
              "      border-right-color: var(--fill-color);\n",
              "    }\n",
              "    40% {\n",
              "      border-color: transparent;\n",
              "      border-right-color: var(--fill-color);\n",
              "      border-top-color: var(--fill-color);\n",
              "    }\n",
              "    60% {\n",
              "      border-color: transparent;\n",
              "      border-right-color: var(--fill-color);\n",
              "    }\n",
              "    80% {\n",
              "      border-color: transparent;\n",
              "      border-right-color: var(--fill-color);\n",
              "      border-bottom-color: var(--fill-color);\n",
              "    }\n",
              "    90% {\n",
              "      border-color: transparent;\n",
              "      border-bottom-color: var(--fill-color);\n",
              "    }\n",
              "  }\n",
              "</style>\n",
              "\n",
              "      <script>\n",
              "        async function quickchart(key) {\n",
              "          const quickchartButtonEl =\n",
              "            document.querySelector('#' + key + ' button');\n",
              "          quickchartButtonEl.disabled = true;  // To prevent multiple clicks.\n",
              "          quickchartButtonEl.classList.add('colab-df-spinner');\n",
              "          try {\n",
              "            const charts = await google.colab.kernel.invokeFunction(\n",
              "                'suggestCharts', [key], {});\n",
              "          } catch (error) {\n",
              "            console.error('Error during call to suggestCharts:', error);\n",
              "          }\n",
              "          quickchartButtonEl.classList.remove('colab-df-spinner');\n",
              "          quickchartButtonEl.classList.add('colab-df-quickchart-complete');\n",
              "        }\n",
              "        (() => {\n",
              "          let quickchartButtonEl =\n",
              "            document.querySelector('#df-460f963b-4f46-4e66-9ebe-02cb89dbfa59 button');\n",
              "          quickchartButtonEl.style.display =\n",
              "            google.colab.kernel.accessAllowed ? 'block' : 'none';\n",
              "        })();\n",
              "      </script>\n",
              "    </div>\n",
              "\n",
              "    </div>\n",
              "  </div>\n"
            ],
            "application/vnd.google.colaboratory.intrinsic+json": {
              "type": "dataframe",
              "variable_name": "df"
            }
          },
          "metadata": {},
          "execution_count": 65
        }
      ],
      "execution_count": 65
    },
    {
      "cell_type": "code",
      "source": [
        "#DISPLAYING THE UNIQUE LABELS AGAIN\n",
        "print(df['label'].unique())"
      ],
      "metadata": {
        "colab": {
          "base_uri": "https://localhost:8080/"
        },
        "id": "l4A3XNf54jVb",
        "outputId": "8e04a625-0426-455c-bb4d-f867ccdac874"
      },
      "execution_count": 66,
      "outputs": [
        {
          "output_type": "stream",
          "name": "stdout",
          "text": [
            "[0 1]\n"
          ]
        }
      ]
    },
    {
      "cell_type": "code",
      "source": [
        "#REMPOVING NULL VALUES\n",
        "# Drop rows where \"clened text\" is NaN\n",
        "df = df.dropna(subset=[\"clened text\"])"
      ],
      "metadata": {
        "id": "oOiiSF9cqRj6"
      },
      "execution_count": 67,
      "outputs": []
    },
    {
      "cell_type": "markdown",
      "source": [
        "Sampiling data"
      ],
      "metadata": {
        "id": "HFi8BIyxfT7T"
      }
    },
    {
      "cell_type": "code",
      "source": [
        "# Randomly sample 50,000 rows from ORGINAL DATASET\n",
        "df_small = df.sample(n=50000, random_state=42)\n",
        "df=df_small"
      ],
      "metadata": {
        "id": "w076MU7Wp1bO"
      },
      "execution_count": 68,
      "outputs": []
    },
    {
      "cell_type": "markdown",
      "source": [
        "Displaying labels"
      ],
      "metadata": {
        "id": "sboRb3UofXaq"
      }
    },
    {
      "cell_type": "code",
      "source": [
        "#DIAPLAYING COUNTS OF EACH UNIQUE LABEL\n",
        "label_counts = df['label'].value_counts()\n",
        "print(label_counts)"
      ],
      "metadata": {
        "colab": {
          "base_uri": "https://localhost:8080/"
        },
        "id": "YNsN2opSiYzq",
        "outputId": "5c5421de-d2fd-434e-febb-e6b30f6fee96"
      },
      "execution_count": 69,
      "outputs": [
        {
          "output_type": "stream",
          "name": "stdout",
          "text": [
            "label\n",
            "1    25014\n",
            "0    24986\n",
            "Name: count, dtype: int64\n"
          ]
        }
      ]
    },
    {
      "cell_type": "code",
      "source": [
        "#VISUALIZING EACH NAUMBER OF SAMPLES PRESNT BASED ON LABELS\n",
        "import matplotlib.pyplot as plt\n",
        "import seaborn as sns\n",
        "\n",
        "# Count labels\n",
        "label_counts = df['label'].value_counts().sort_index()\n",
        "\n",
        "# Label mapping if needed\n",
        "label_names = {0: \"Negative\", 1: \"Positive\"}\n",
        "\n",
        "# Convert index to label names for display\n",
        "labels = [label_names[i] for i in label_counts.index]\n",
        "\n",
        "# Plot\n",
        "plt.figure(figsize=(6, 4))\n",
        "sns.barplot(x=labels, y=label_counts.values, palette=\"Blues_d\")\n",
        "plt.title(\"Label Distribution in Dataset\")\n",
        "plt.xlabel(\"Sentiment Class\")\n",
        "plt.ylabel(\"Number of Samples\")\n",
        "plt.grid(axis='y', linestyle='--', alpha=0.7)\n",
        "plt.tight_layout()\n",
        "plt.show()\n"
      ],
      "metadata": {
        "colab": {
          "base_uri": "https://localhost:8080/",
          "height": 516
        },
        "id": "gdX5fNVIg-sD",
        "outputId": "e8c67e70-8df0-4827-8abd-f9f6472def74"
      },
      "execution_count": 70,
      "outputs": [
        {
          "output_type": "stream",
          "name": "stderr",
          "text": [
            "<ipython-input-70-30bad6d5a18f>:16: FutureWarning: \n",
            "\n",
            "Passing `palette` without assigning `hue` is deprecated and will be removed in v0.14.0. Assign the `x` variable to `hue` and set `legend=False` for the same effect.\n",
            "\n",
            "  sns.barplot(x=labels, y=label_counts.values, palette=\"Blues_d\")\n"
          ]
        },
        {
          "output_type": "display_data",
          "data": {
            "text/plain": [
              "<Figure size 600x400 with 1 Axes>"
            ],
            "image/png": "[encoded data removed]"
          },
          "metadata": {}
        }
      ]
    },
    {
      "cell_type": "code",
      "source": [
        "nltk.download('punkt_tab')"
      ],
      "metadata": {
        "colab": {
          "base_uri": "https://localhost:8080/"
        },
        "id": "F9Hjbj_NqESt",
        "outputId": "5fc306b3-eb42-44f6-f48b-1bee3f890b45"
      },
      "execution_count": 71,
      "outputs": [
        {
          "output_type": "stream",
          "name": "stderr",
          "text": [
            "[nltk_data] Downloading package punkt_tab to /root/nltk_data...\n",
            "[nltk_data]   Package punkt_tab is already up-to-date!\n"
          ]
        },
        {
          "output_type": "execute_result",
          "data": {
            "text/plain": [
              "True"
            ]
          },
          "metadata": {},
          "execution_count": 71
        }
      ]
    },
    {
      "cell_type": "markdown",
      "source": [
        "Tokenization"
      ],
      "metadata": {
        "id": "oyaxk74ffafE"
      }
    },
    {
      "cell_type": "code",
      "source": [
        "tokenized_texts = [word_tokenize(text) for text in df[\"clened text\"]]\n",
        "\n",
        "# Build vocab\n",
        "word_counts = Counter(word for sent in tokenized_texts for word in sent)\n",
        "vocab = {word: i + 2 for i, (word, _) in enumerate(word_counts.items())}\n",
        "vocab[\"<PAD>\"] = 0\n",
        "vocab[\"<UNK>\"] = 1\n"
      ],
      "metadata": {
        "trusted": true,
        "execution": {
          "iopub.status.busy": "2025-04-26T00:24:18.404569Z",
          "iopub.execute_input": "2025-04-26T00:24:18.404834Z"
        },
        "id": "5zUJCJQ1fMAD"
      },
      "outputs": [],
      "execution_count": 72
    },
    {
      "cell_type": "markdown",
      "source": [
        "BULDING VOCABLARY FOR THE LSTM MODEL"
      ],
      "metadata": {
        "id": "9LsJJR6Ll6q0"
      }
    },
    {
      "cell_type": "code",
      "source": [
        "def encode(sentence, vocab):\n",
        "    return [vocab.get(word, vocab[\"<UNK>\"]) for word in sentence]\n",
        "\n",
        "encoded = [torch.tensor(encode(sent, vocab)) for sent in tokenized_texts]\n",
        "padded = pad_sequence(encoded, batch_first=True, padding_value=vocab[\"<PAD>\"])\n",
        "labels = torch.tensor(df[\"label\"].values)\n"
      ],
      "metadata": {
        "trusted": true,
        "id": "K5dM-wi8fMAD"
      },
      "outputs": [],
      "execution_count": 73
    },
    {
      "cell_type": "markdown",
      "source": [
        "SPLITTING DATA FOR TRAINNG VALIDATING AND TESTING (80,10,10)"
      ],
      "metadata": {
        "id": "B95T7uwqmA2v"
      }
    },
    {
      "cell_type": "code",
      "source": [
        "# First split 90% train+val and 10% test\n",
        "X_temp, X_test, y_temp, y_test = train_test_split(padded, labels, test_size=0.1, random_state=42)\n",
        "\n",
        "# Then split 80% train and 10% val from the 90%\n",
        "X_train, X_val, y_train, y_val = train_test_split(X_temp, y_temp, test_size=0.111, random_state=42)\n"
      ],
      "metadata": {
        "trusted": true,
        "id": "LM1Lym5cfMAD"
      },
      "outputs": [],
      "execution_count": 74
    },
    {
      "cell_type": "markdown",
      "source": [
        "DEFINE DATALOADER"
      ],
      "metadata": {
        "id": "tUQRnjNomH5A"
      }
    },
    {
      "cell_type": "code",
      "source": [
        "class TweetDataset(Dataset):\n",
        "    def __init__(self, inputs, labels):\n",
        "        self.inputs = inputs\n",
        "        self.labels = labels\n",
        "\n",
        "    def __len__(self):\n",
        "        return len(self.labels)\n",
        "\n",
        "    def __getitem__(self, idx):\n",
        "        return self.inputs[idx], self.labels[idx]\n",
        "\n",
        "train_dataset = TweetDataset(X_train, y_train)\n",
        "val_dataset = TweetDataset(X_val, y_val)\n",
        "test_dataset = TweetDataset(X_test, y_test)\n",
        "\n",
        "train_loader = DataLoader(train_dataset, batch_size=32, shuffle=True)\n",
        "val_loader = DataLoader(val_dataset, batch_size=32)\n",
        "test_loader = DataLoader(test_dataset, batch_size=32)\n"
      ],
      "metadata": {
        "trusted": true,
        "execution": {
          "iopub.status.busy": "2025-04-26T00:22:36.352058Z",
          "iopub.status.idle": "2025-04-26T00:22:36.352269Z",
          "shell.execute_reply.started": "2025-04-26T00:22:36.352169Z",
          "shell.execute_reply": "2025-04-26T00:22:36.352177Z"
        },
        "id": "kb4plr7YfMAD"
      },
      "outputs": [],
      "execution_count": 75
    },
    {
      "cell_type": "markdown",
      "source": [
        "BASELINE MODELS"
      ],
      "metadata": {
        "id": "p2KJG9HVfmbZ"
      }
    },
    {
      "cell_type": "code",
      "source": [
        "import random\n",
        "from collections import Counter\n",
        "#random baseline\n",
        "def random_baseline(y_test):\n",
        "    y_test = list(y_test)  # In case it's Tensor\n",
        "    random_preds = [random.choice([0, 1]) for _ in range(len(y_test))]\n",
        "    return random_preds\n",
        "\n",
        "#Most frequent Baseline\n",
        "\n",
        "def most_frequent_baseline(train_labels, test_labels):\n",
        "    most_common_label = Counter(train_labels).most_common(1)[0][0]\n",
        "    frequent_preds = [most_common_label for _ in range(len(test_labels))]\n",
        "    return frequent_preds\n"
      ],
      "metadata": {
        "id": "UuA8TUKaflx9"
      },
      "execution_count": 76,
      "outputs": []
    },
    {
      "cell_type": "markdown",
      "source": [
        "DISPLAYING ACCURACIES OF THE BASE LINE MODELS RANDOM BASELINE AND MOST FREQUENT BASELINE"
      ],
      "metadata": {
        "id": "jBhrHe0fmM18"
      }
    },
    {
      "cell_type": "code",
      "source": [
        "from sklearn.metrics import accuracy_score, precision_score, recall_score, f1_score\n",
        "\n",
        "# Random Baseline\n",
        "random_preds = random_baseline(y_test)\n",
        "print(\"Random Baseline Accuracy:\", accuracy_score(y_test, random_preds))\n",
        "print(\"Random Baseline Precision:\", precision_score(y_test, random_preds))\n",
        "print(\"Random Baseline Recall:\", recall_score(y_test, random_preds))\n",
        "print(\"Random Baseline F1-Score:\", f1_score(y_test, random_preds))\n",
        "\n",
        "# Most Frequent Baseline\n",
        "frequent_preds = most_frequent_baseline(y_train, y_test)\n",
        "print(\"Most Frequent Baseline Accuracy:\", accuracy_score(y_test, frequent_preds))\n",
        "print(\"Most Frequent Baseline Precision:\", precision_score(y_test, frequent_preds))\n",
        "print(\"Most Frequent Baseline Recall:\", recall_score(y_test, frequent_preds))\n",
        "print(\"Most Frequent Baseline F1-Score:\", f1_score(y_test, frequent_preds))\n"
      ],
      "metadata": {
        "colab": {
          "base_uri": "https://localhost:8080/"
        },
        "id": "ThSthpwJf7ND",
        "outputId": "5adb708c-1bc4-4f43-8edf-f45111abd56a"
      },
      "execution_count": 77,
      "outputs": [
        {
          "output_type": "stream",
          "name": "stdout",
          "text": [
            "Random Baseline Accuracy: 0.5018\n",
            "Random Baseline Precision: 0.5087576374745417\n",
            "Random Baseline Recall: 0.4928966061562747\n",
            "Random Baseline F1-Score: 0.50070154339547\n",
            "Most Frequent Baseline Accuracy: 0.4932\n"
          ]
        },
        {
          "output_type": "stream",
          "name": "stderr",
          "text": [
            "/usr/local/lib/python3.11/dist-packages/sklearn/metrics/_classification.py:1565: UndefinedMetricWarning: Precision is ill-defined and being set to 0.0 due to no predicted samples. Use `zero_division` parameter to control this behavior.\n",
            "  _warn_prf(average, modifier, f\"{metric.capitalize()} is\", len(result))\n"
          ]
        },
        {
          "output_type": "stream",
          "name": "stdout",
          "text": [
            "Most Frequent Baseline Precision: 0.0\n",
            "Most Frequent Baseline Recall: 0.0\n",
            "Most Frequent Baseline F1-Score: 0.0\n"
          ]
        }
      ]
    },
    {
      "cell_type": "markdown",
      "source": [
        "## Model Setup\n",
        "\n",
        "We initialize the baseline model (Custom Bi-LSTM) for sentiment classification.\n",
        "\n",
        "- **Device Selection:** The model will automatically run on GPU if available (`cuda`), otherwise it will run on CPU.\n",
        "- **Model Architecture:** The `CustomLSTM` model is instantiated with:\n",
        "  - Vocabulary size based on the size of the constructed vocabulary\n",
        "  - Embedding dimension = 100\n",
        "  - Hidden dimension = 128\n",
        "  - Output dimension = 2 (Positive/Negative)\n",
        "  depending on the dataset label format\n",
        "  - 2 LSTM layers\n",
        "  - 50% Dropout rate to prevent overfitting\n",
        "- **Loss Function:** CrossEntropyLoss is used for multi-class classification.\n",
        "- **Optimizer:** The Adam optimizer is used with a learning rate of 0.001 for efficient training.\n"
      ],
      "metadata": {
        "id": "YXHxJQ1pnKLe"
      }
    },
    {
      "cell_type": "markdown",
      "source": [
        "BILSTM"
      ],
      "metadata": {
        "id": "Cxo3eKHofj2i"
      }
    },
    {
      "cell_type": "code",
      "source": [
        "class CustomLSTM(nn.Module):\n",
        "    def __init__(self, vocab_size, embed_dim, hidden_dim, output_dim, n_layers, dropout):\n",
        "        super(CustomLSTM, self).__init__()\n",
        "        self.embedding = nn.Embedding(vocab_size, embed_dim)\n",
        "        self.lstm = nn.LSTM(embed_dim, hidden_dim, num_layers=n_layers,\n",
        "                            bidirectional=True, batch_first=True, dropout=dropout)\n",
        "        self.dropout = nn.Dropout(dropout)\n",
        "        self.fc = nn.Linear(hidden_dim * 2, output_dim)  # *2 for bidirectional\n",
        "\n",
        "    def forward(self, x):\n",
        "        embedded = self.embedding(x)\n",
        "        lstm_out, _ = self.lstm(embedded)\n",
        "        # Get the final forward and backward hidden states\n",
        "        forward = lstm_out[:, -1, :self.lstm.hidden_size]\n",
        "        backward = lstm_out[:, 0, self.lstm.hidden_size:]\n",
        "        hidden = torch.cat((forward, backward), dim=1)\n",
        "        output = self.fc(self.dropout(hidden))\n",
        "        return output\n"
      ],
      "metadata": {
        "trusted": true,
        "execution": {
          "iopub.status.busy": "2025-04-26T00:22:36.352969Z",
          "iopub.status.idle": "2025-04-26T00:22:36.353175Z",
          "shell.execute_reply.started": "2025-04-26T00:22:36.353079Z",
          "shell.execute_reply": "2025-04-26T00:22:36.353089Z"
        },
        "id": "kuX5_7tKfMAD"
      },
      "outputs": [],
      "execution_count": 78
    },
    {
      "cell_type": "code",
      "source": [
        "device = torch.device(\"cuda\" if torch.cuda.is_available() else \"cpu\")\n",
        "\n",
        "model = CustomLSTM(\n",
        "    vocab_size=len(vocab),\n",
        "    embed_dim=100,\n",
        "    hidden_dim=128,\n",
        "    output_dim=2,  # 2 classes: positive, negative\n",
        "    n_layers=2,\n",
        "    dropout=0.5\n",
        ").to(device)\n",
        "\n",
        "criterion = nn.CrossEntropyLoss()\n",
        "optimizer = torch.optim.Adam(model.parameters(), lr=1e-3)\n"
      ],
      "metadata": {
        "trusted": true,
        "execution": {
          "iopub.status.busy": "2025-04-26T00:22:36.354993Z",
          "iopub.status.idle": "2025-04-26T00:22:36.355335Z",
          "shell.execute_reply.started": "2025-04-26T00:22:36.355161Z",
          "shell.execute_reply": "2025-04-26T00:22:36.355177Z"
        },
        "id": "U3lv7fmyfMAD"
      },
      "outputs": [],
      "execution_count": 79
    },
    {
      "cell_type": "markdown",
      "source": [
        "CODE FOR TRAINING  BILSTM"
      ],
      "metadata": {
        "id": "72qhDaTLff23"
      }
    },
    {
      "cell_type": "code",
      "source": [
        "def train(model, loader, criterion, optimizer):\n",
        "    model.train()\n",
        "    epoch_loss = 0\n",
        "    correct = 0\n",
        "    total = 0\n",
        "\n",
        "    for inputs, targets in loader:\n",
        "        inputs, targets = inputs.to(device), targets.to(device)\n",
        "\n",
        "        optimizer.zero_grad()\n",
        "        outputs = model(inputs)\n",
        "        loss = criterion(outputs, targets)\n",
        "        loss.backward()\n",
        "        optimizer.step()\n",
        "\n",
        "        epoch_loss += loss.item()\n",
        "        preds = outputs.argmax(dim=1)\n",
        "        correct += (preds == targets).sum().item()\n",
        "        total += targets.size(0)\n",
        "\n",
        "    accuracy = correct / total\n",
        "    return epoch_loss / len(loader), accuracy\n"
      ],
      "metadata": {
        "trusted": true,
        "execution": {
          "iopub.status.busy": "2025-04-26T00:22:36.356162Z",
          "iopub.status.idle": "2025-04-26T00:22:36.356468Z",
          "shell.execute_reply.started": "2025-04-26T00:22:36.356310Z",
          "shell.execute_reply": "2025-04-26T00:22:36.356322Z"
        },
        "id": "5glfytZRfMAD"
      },
      "outputs": [],
      "execution_count": 80
    },
    {
      "cell_type": "markdown",
      "source": [
        "EVALUATING"
      ],
      "metadata": {
        "id": "t__4vaUJmV7g"
      }
    },
    {
      "cell_type": "code",
      "source": [
        "def evaluate(model, loader, criterion):\n",
        "    model.eval()\n",
        "    epoch_loss = 0\n",
        "    correct = 0\n",
        "    total = 0\n",
        "\n",
        "    with torch.no_grad():\n",
        "        for inputs, targets in loader:\n",
        "            inputs, targets = inputs.to(device), targets.to(device)\n",
        "            outputs = model(inputs)\n",
        "            loss = criterion(outputs, targets)\n",
        "\n",
        "            epoch_loss += loss.item()\n",
        "            preds = outputs.argmax(dim=1)\n",
        "            correct += (preds == targets).sum().item()\n",
        "            total += targets.size(0)\n",
        "\n",
        "    accuracy = correct / total\n",
        "    return epoch_loss / len(loader), accuracy\n"
      ],
      "metadata": {
        "trusted": true,
        "execution": {
          "iopub.status.busy": "2025-04-26T00:22:36.357612Z",
          "iopub.status.idle": "2025-04-26T00:22:36.357877Z",
          "shell.execute_reply.started": "2025-04-26T00:22:36.357729Z",
          "shell.execute_reply": "2025-04-26T00:22:36.357738Z"
        },
        "id": "ZQDz4IoCfMAE"
      },
      "outputs": [],
      "execution_count": 81
    },
    {
      "cell_type": "markdown",
      "source": [
        "TRAINING THE MODEL"
      ],
      "metadata": {
        "id": "LTsYIb0MnsZF"
      }
    },
    {
      "cell_type": "code",
      "source": [
        "best_val_acc = 0.0\n",
        "best_model_state = None\n",
        "\n",
        "EPOCHS = 5\n",
        "\n",
        "for epoch in range(EPOCHS):\n",
        "    train_loss, train_acc = train(model, train_loader, criterion, optimizer)\n",
        "    val_loss, val_acc = evaluate(model, val_loader, criterion)\n",
        "\n",
        "    print(f\"Epoch {epoch+1}/{EPOCHS}\")\n",
        "    print(f\"Train Loss: {train_loss:.4f} | Train Acc: {train_acc:.4f}\")\n",
        "    print(f\"Val   Loss: {val_loss:.4f} | Val   Acc: {val_acc:.4f}\")\n",
        "    print(\"-\" * 40)\n",
        "\n",
        "    # Save model if validation accuracy improves\n",
        "    if val_acc > best_val_acc:\n",
        "        best_val_acc = val_acc\n",
        "        best_model_state = model.state_dict()  # Save the model parameters\n",
        "\n",
        "# After all epochs, load the best model\n",
        "model.load_state_dict(best_model_state)\n",
        "\n",
        "# Save the best model to a file (optional)\n",
        "torch.save(model.state_dict(), \"best_lstm_model.pth\")\n",
        "print(f\"Best Validation Accuracy: {best_val_acc:.4f}\")\n"
      ],
      "metadata": {
        "trusted": true,
        "execution": {
          "iopub.status.busy": "2025-04-26T00:22:36.359248Z",
          "iopub.status.idle": "2025-04-26T00:22:36.359622Z",
          "shell.execute_reply.started": "2025-04-26T00:22:36.359452Z",
          "shell.execute_reply": "2025-04-26T00:22:36.359466Z"
        },
        "id": "sxa78k7HfMAE",
        "colab": {
          "base_uri": "https://localhost:8080/"
        },
        "outputId": "4e710def-05cc-4a4e-d75e-5001e5c43743"
      },
      "outputs": [
        {
          "output_type": "stream",
          "name": "stdout",
          "text": [
            "Epoch 1/5\n",
            "Train Loss: 0.5768 | Train Acc: 0.6956\n",
            "Val   Loss: 0.5187 | Val   Acc: 0.7415\n",
            "----------------------------------------\n",
            "Epoch 2/5\n",
            "Train Loss: 0.4610 | Train Acc: 0.7846\n",
            "Val   Loss: 0.4802 | Val   Acc: 0.7660\n",
            "----------------------------------------\n",
            "Epoch 3/5\n",
            "Train Loss: 0.3838 | Train Acc: 0.8287\n",
            "Val   Loss: 0.4879 | Val   Acc: 0.7690\n",
            "----------------------------------------\n",
            "Epoch 4/5\n",
            "Train Loss: 0.3107 | Train Acc: 0.8691\n",
            "Val   Loss: 0.5346 | Val   Acc: 0.7584\n",
            "----------------------------------------\n",
            "Epoch 5/5\n",
            "Train Loss: 0.2402 | Train Acc: 0.9022\n",
            "Val   Loss: 0.5993 | Val   Acc: 0.7684\n",
            "----------------------------------------\n",
            "Best Validation Accuracy: 0.7690\n"
          ]
        }
      ],
      "execution_count": 82
    },
    {
      "cell_type": "markdown",
      "source": [
        "CONFUSION MATRIX"
      ],
      "metadata": {
        "id": "xK6c5BBFnvDj"
      }
    },
    {
      "cell_type": "code",
      "source": [
        "import torch\n",
        "import matplotlib.pyplot as plt\n",
        "from sklearn.metrics import confusion_matrix, ConfusionMatrixDisplay\n",
        "\n",
        "device = torch.device(\"cuda\" if torch.cuda.is_available() else \"cpu\")\n",
        "model = model.to(device)\n",
        "\n",
        "\n",
        "model.eval()\n",
        "\n",
        "y_true = []\n",
        "y_pred = []\n",
        "\n",
        "\n",
        "with torch.no_grad():\n",
        "    for inputs, labels in test_loader:\n",
        "        inputs = inputs.to(device)\n",
        "        outputs = model(inputs)\n",
        "        _, preds = torch.max(outputs, 1)\n",
        "        y_true.extend(labels.cpu().numpy())\n",
        "        y_pred.extend(preds.cpu().numpy())\n",
        "\n",
        "# Generate confusion matrix\n",
        "cm = confusion_matrix(y_true, y_pred)\n",
        "\n",
        "# Plot confusion matrix\n",
        "disp = ConfusionMatrixDisplay(confusion_matrix=cm, display_labels=[\"Negative\", \"Positive\"])\n",
        "disp.plot(cmap='Blues', values_format='d')\n",
        "plt.title(\"Confusion Matrix for Bi-LSTM Model\")\n",
        "plt.savefig(\"lstm_confusion_matrix.png\")  # Save figure\n",
        "plt.show()\n"
      ],
      "metadata": {
        "colab": {
          "base_uri": "https://localhost:8080/",
          "height": 472
        },
        "id": "WLH1CJikREgU",
        "outputId": "6a1a9363-b81c-4cfa-8d2e-a37f2c787baa"
      },
      "execution_count": 83,
      "outputs": [
        {
          "output_type": "display_data",
          "data": {
            "text/plain": [
              "<Figure size 640x480 with 2 Axes>"
            ],
            "image/png": "[encoded data removed]"
          },
          "metadata": {}
        }
      ]
    },
    {
      "cell_type": "code",
      "source": [
        "test_loss, test_acc = evaluate(model, test_loader, criterion)\n",
        "\n",
        "print(f\"Final Test Loss: {test_loss:.4f}\")\n",
        "print(f\"Final Test Accuracy: {test_acc:.4f}\")\n"
      ],
      "metadata": {
        "trusted": true,
        "execution": {
          "iopub.status.busy": "2025-04-26T00:22:36.360983Z",
          "iopub.status.idle": "2025-04-26T00:22:36.361421Z",
          "shell.execute_reply.started": "2025-04-26T00:22:36.361194Z",
          "shell.execute_reply": "2025-04-26T00:22:36.361208Z"
        },
        "id": "76gpmxSpfMAE",
        "colab": {
          "base_uri": "https://localhost:8080/"
        },
        "outputId": "158b6020-b252-4d47-bb39-5c38df76238a"
      },
      "outputs": [
        {
          "output_type": "stream",
          "name": "stdout",
          "text": [
            "Final Test Loss: 0.5887\n",
            "Final Test Accuracy: 0.7728\n"
          ]
        }
      ],
      "execution_count": 84
    },
    {
      "cell_type": "markdown",
      "source": [
        "IMPORTING REQUIRED MODULES FOR BERT"
      ],
      "metadata": {
        "id": "J50dC300oZsV"
      }
    },
    {
      "cell_type": "code",
      "source": [
        "from transformers import AutoTokenizer, AutoModel\n"
      ],
      "metadata": {
        "id": "hc2wOwRirGUb"
      },
      "execution_count": 85,
      "outputs": []
    },
    {
      "cell_type": "code",
      "source": [
        "from google.colab import drive\n",
        "drive.mount('/content/drive')"
      ],
      "metadata": {
        "colab": {
          "base_uri": "https://localhost:8080/"
        },
        "id": "L2bU0QXa_zHp",
        "outputId": "33bb2e21-0cbe-4c52-f82d-58af9ca64374"
      },
      "execution_count": 86,
      "outputs": [
        {
          "output_type": "stream",
          "name": "stdout",
          "text": [
            "Drive already mounted at /content/drive; to attempt to forcibly remount, call drive.mount(\"/content/drive\", force_remount=True).\n"
          ]
        }
      ]
    },
    {
      "cell_type": "code",
      "source": [
        "tokenizer = AutoTokenizer.from_pretrained('bert-base-uncased')\n",
        "bert_model = AutoModel.from_pretrained('bert-base-uncased')\n"
      ],
      "metadata": {
        "id": "-ZPiu2mPrG9l"
      },
      "execution_count": 87,
      "outputs": []
    },
    {
      "cell_type": "markdown",
      "source": [
        "PROPOSED BERT MODEL , EVALUATION AND RESULTS"
      ],
      "metadata": {
        "id": "AQ1zS31yhzNO"
      }
    },
    {
      "cell_type": "markdown",
      "source": [
        "## Fine-tuning BERT Model\n",
        "\n",
        "We fine-tune a pre-trained `bert-base-uncased` model from Huggingface Transformers library for sentiment classification.\n",
        "\n",
        "### Steps:\n",
        "- **Tokenization:**  \n",
        "  The input text is tokenized using `AutoTokenizer` with padding and truncation to a maximum length of 128 tokens.\n",
        "\n",
        "- **Dataset and Dataloaders:**  \n",
        "  A custom `BERTTweetDataset` class is defined to handle input IDs, attention masks, and labels.  \n",
        "  The dataset is split into training (80%), validation (10%), and test (10%) sets, and loaded into batches using `DataLoader`.\n",
        "\n",
        "- **Model Architecture:**  \n",
        "  A custom `CustomBERTClassifier` class wraps the BERT encoder followed by:\n",
        "  - A dropout layer for regularization\n",
        "  - A fully connected layer (768 ➔ 256)\n",
        "  - ReLU activation\n",
        "  - A second dropout layer\n",
        "  - A final fully connected layer projecting into the number of output classes (2 or 3 depending on labeling)\n",
        "\n",
        "- **Training and Evaluation:**  \n",
        "  We use CrossEntropyLoss as the loss function and Adam optimizer with a learning rate of 2e-5.  \n",
        "  The model is trained for 3 epochs, and the best model (based on validation accuracy) is saved.\n",
        "\n",
        "- **Testing:**  \n",
        "  After training, the best model is loaded and evaluated on the test set. Final loss and accuracy are reported.\n"
      ],
      "metadata": {
        "id": "0tuS0MnWoPxw"
      }
    },
    {
      "cell_type": "code",
      "source": [
        "\n",
        "# Tokenization\n",
        "tokenizer = AutoTokenizer.from_pretrained('bert-base-uncased')\n",
        "encoded_inputs = tokenizer(\n",
        "    list(df[\"clened text\"]),\n",
        "    padding=True,\n",
        "    truncation=True,\n",
        "    max_length=128,\n",
        "    return_tensors=\"pt\"\n",
        ")\n",
        "\n",
        "input_ids = encoded_inputs[\"input_ids\"]\n",
        "attention_mask = encoded_inputs[\"attention_mask\"]\n",
        "labels = torch.tensor(df[\"label\"].values)\n",
        "\n",
        "# Dataset Class\n",
        "class BERTTweetDataset(Dataset):\n",
        "    def __init__(self, input_ids, attention_mask, labels):\n",
        "        self.input_ids = input_ids\n",
        "        self.attention_mask = attention_mask\n",
        "        self.labels = labels\n",
        "\n",
        "    def __len__(self):\n",
        "        return len(self.labels)\n",
        "\n",
        "    def __getitem__(self, idx):\n",
        "        return {\n",
        "            \"input_ids\": self.input_ids[idx],\n",
        "            \"attention_mask\": self.attention_mask[idx],\n",
        "            \"labels\": self.labels[idx]\n",
        "        }\n",
        "\n",
        "# Train/Val/Test Split\n",
        "X_temp_ids, X_test_ids, X_temp_mask, X_test_mask, y_temp, y_test = train_test_split(\n",
        "    input_ids, attention_mask, labels, test_size=0.1, random_state=42)\n",
        "\n",
        "X_train_ids, X_val_ids, X_train_mask, X_val_mask, y_train, y_val = train_test_split(\n",
        "    X_temp_ids, X_temp_mask, y_temp, test_size=0.111, random_state=42)\n",
        "\n",
        "train_dataset = BERTTweetDataset(X_train_ids, X_train_mask, y_train)\n",
        "val_dataset = BERTTweetDataset(X_val_ids, X_val_mask, y_val)\n",
        "test_dataset = BERTTweetDataset(X_test_ids, X_test_mask, y_test)\n",
        "\n",
        "train_loader = DataLoader(train_dataset, batch_size=64, shuffle=True)\n",
        "val_loader = DataLoader(val_dataset, batch_size=64)\n",
        "test_loader = DataLoader(test_dataset, batch_size=64)\n",
        "\n",
        "# Custom BERT Model\n",
        "class CustomBERTClassifier(nn.Module):\n",
        "    def __init__(self, bert_model, num_classes):\n",
        "        super(CustomBERTClassifier, self).__init__()\n",
        "        self.bert = bert_model\n",
        "        self.dropout = nn.Dropout(p=0.5)\n",
        "        self.linear1 = nn.Linear(self.bert.config.hidden_size, 256)\n",
        "        self.relu = nn.ReLU()\n",
        "        self.linear2 = nn.Linear(256, num_classes)\n",
        "\n",
        "    def forward(self, input_ids, attention_mask):\n",
        "        outputs = self.bert(input_ids=input_ids, attention_mask=attention_mask)\n",
        "        pooled_output = outputs.pooler_output\n",
        "        x = self.dropout(pooled_output)\n",
        "        x = self.linear1(x)\n",
        "        x = self.relu(x)\n",
        "        x = self.dropout(x)\n",
        "        x = self.linear2(x)\n",
        "        return x\n",
        "\n",
        "# Setup\n",
        "device = torch.device(\"cuda\" if torch.cuda.is_available() else \"cpu\")\n",
        "\n",
        "bert_model = AutoModel.from_pretrained('bert-base-uncased')\n",
        "model = CustomBERTClassifier(bert_model=bert_model, num_classes=3)\n",
        "model = model.to(device)\n",
        "\n",
        "criterion = nn.CrossEntropyLoss()\n",
        "optimizer = torch.optim.Adam(model.parameters(), lr=2e-5)\n",
        "\n",
        "# Train and Evaluate Functions\n",
        "def train(model, loader, criterion, optimizer):\n",
        "    model.train()\n",
        "    epoch_loss = 0\n",
        "    correct = 0\n",
        "    total = 0\n",
        "\n",
        "    for batch in loader:\n",
        "        input_ids = batch[\"input_ids\"].to(device)\n",
        "        attention_mask = batch[\"attention_mask\"].to(device)\n",
        "        targets = batch[\"labels\"].to(device)\n",
        "\n",
        "        optimizer.zero_grad()\n",
        "        outputs = model(input_ids, attention_mask)\n",
        "        loss = criterion(outputs, targets)\n",
        "        loss.backward()\n",
        "        optimizer.step()\n",
        "\n",
        "        epoch_loss += loss.item()\n",
        "        preds = outputs.argmax(dim=1)\n",
        "        correct += (preds == targets).sum().item()\n",
        "        total += targets.size(0)\n",
        "\n",
        "    return epoch_loss / len(loader), correct / total\n",
        "\n",
        "def evaluate(model, loader, criterion):\n",
        "    model.eval()\n",
        "    epoch_loss = 0\n",
        "    correct = 0\n",
        "    total = 0\n",
        "\n",
        "    with torch.no_grad():\n",
        "        for batch in loader:\n",
        "            input_ids = batch[\"input_ids\"].to(device)\n",
        "            attention_mask = batch[\"attention_mask\"].to(device)\n",
        "            targets = batch[\"labels\"].to(device)\n",
        "\n",
        "            outputs = model(input_ids, attention_mask)\n",
        "            loss = criterion(outputs, targets)\n",
        "\n",
        "            epoch_loss += loss.item()\n",
        "            preds = outputs.argmax(dim=1)\n",
        "            correct += (preds == targets).sum().item()\n",
        "            total += targets.size(0)\n",
        "\n",
        "    return epoch_loss / len(loader), correct / total\n",
        "\n",
        "# Train Loop with Best Model Saving\n",
        "best_val_acc = 0.0\n",
        "best_model_state = None\n",
        "EPOCHS = 3\n",
        "\n",
        "for epoch in range(EPOCHS):\n",
        "    train_loss, train_acc = train(model, train_loader, criterion, optimizer)\n",
        "    val_loss, val_acc = evaluate(model, val_loader, criterion)\n",
        "\n",
        "    print(f\"Epoch {epoch+1}/{EPOCHS}\")\n",
        "    print(f\"Train Loss: {train_loss:.4f} | Train Acc: {train_acc:.4f}\")\n",
        "    print(f\"Val   Loss: {val_loss:.4f} | Val   Acc: {val_acc:.4f}\")\n",
        "    print(\"-\" * 40)\n",
        "\n",
        "    if val_acc > best_val_acc:\n",
        "        best_val_acc = val_acc\n",
        "        best_model_state = model.state_dict()\n",
        "\n",
        "# Load Best Model\n",
        "model.load_state_dict(best_model_state)\n",
        "torch.save(model.state_dict(), \"best_bert_model.pth\")\n",
        "\n",
        "# Final Test Evaluation\n",
        "test_loss, test_acc = evaluate(model, test_loader, criterion)\n",
        "\n",
        "print(f\"Final Test Loss: {test_loss:.4f}\")\n",
        "print(f\"Final Test Accuracy: {test_acc:.4f}\")\n"
      ],
      "metadata": {
        "colab": {
          "base_uri": "https://localhost:8080/"
        },
        "id": "tvN6pSuVrhcU",
        "outputId": "45d2b430-36b2-4ea3-c81b-59b35d823066"
      },
      "execution_count": 88,
      "outputs": [
        {
          "output_type": "stream",
          "name": "stdout",
          "text": [
            "Epoch 1/3\n",
            "Train Loss: 0.4701 | Train Acc: 0.7935\n",
            "Val   Loss: 0.3828 | Val   Acc: 0.8314\n",
            "----------------------------------------\n",
            "Epoch 2/3\n",
            "Train Loss: 0.3254 | Train Acc: 0.8677\n",
            "Val   Loss: 0.3834 | Val   Acc: 0.8306\n",
            "----------------------------------------\n",
            "Epoch 3/3\n",
            "Train Loss: 0.2264 | Train Acc: 0.9156\n",
            "Val   Loss: 0.3985 | Val   Acc: 0.8274\n",
            "----------------------------------------\n",
            "Final Test Loss: 0.3972\n",
            "Final Test Accuracy: 0.8330\n"
          ]
        }
      ]
    },
    {
      "cell_type": "code",
      "source": [
        "from sklearn.metrics import classification_report\n",
        "\n",
        "# Collect all predictions and true labels\n",
        "model.eval()\n",
        "all_preds = []\n",
        "all_targets = []\n",
        "\n",
        "with torch.no_grad():\n",
        "    for batch in test_loader:\n",
        "        input_ids = batch[\"input_ids\"].to(device)\n",
        "        attention_mask = batch[\"attention_mask\"].to(device)\n",
        "        labels = batch[\"labels\"].to(device)\n",
        "\n",
        "        outputs = model(input_ids, attention_mask)\n",
        "        preds = outputs.argmax(dim=1)\n",
        "\n",
        "        all_preds.extend(preds.cpu().numpy())\n",
        "        all_targets.extend(labels.cpu().numpy())\n",
        "\n",
        "# Print classification report\n",
        "print(classification_report(all_targets, all_preds, digits=4, target_names=[\"Negative\", \"Positive\"]))\n"
      ],
      "metadata": {
        "colab": {
          "base_uri": "https://localhost:8080/"
        },
        "id": "c-i14JKJqpXl",
        "outputId": "a71ac447-a308-402f-d604-4f2213bf0e63"
      },
      "execution_count": 89,
      "outputs": [
        {
          "output_type": "stream",
          "name": "stdout",
          "text": [
            "              precision    recall  f1-score   support\n",
            "\n",
            "    Negative     0.8227    0.8431    0.8328      2466\n",
            "    Positive     0.8435    0.8232    0.8332      2534\n",
            "\n",
            "    accuracy                         0.8330      5000\n",
            "   macro avg     0.8331    0.8331    0.8330      5000\n",
            "weighted avg     0.8333    0.8330    0.8330      5000\n",
            "\n"
          ]
        }
      ]
    },
    {
      "cell_type": "markdown",
      "source": [
        "Results"
      ],
      "metadata": {
        "id": "UYb2of7rhtcf"
      }
    },
    {
      "cell_type": "code",
      "source": [
        "\n",
        "from sklearn.metrics import confusion_matrix\n",
        "import seaborn as sns\n",
        "import matplotlib.pyplot as plt\n",
        "\n",
        "cm = confusion_matrix(all_targets, all_preds)\n",
        "plt.figure(figsize=(6, 5))\n",
        "sns.heatmap(cm, annot=True, fmt='d', cmap='Blues',\n",
        "            xticklabels=[\"Negative\",\"Positive\"],\n",
        "            yticklabels=[\"Negative\",\"Positive\"])\n",
        "plt.xlabel(\"Predicted\")\n",
        "plt.ylabel(\"Actual\")\n",
        "plt.title(\"Confusion Matrix on Test Set\")\n",
        "plt.show()\n"
      ],
      "metadata": {
        "colab": {
          "base_uri": "https://localhost:8080/",
          "height": 487
        },
        "id": "QJstmW4BhoM3",
        "outputId": "4f8e7bd9-1cf0-4f86-d81e-ca9ea489ed0f"
      },
      "execution_count": 90,
      "outputs": [
        {
          "output_type": "display_data",
          "data": {
            "text/plain": [
              "<Figure size 600x500 with 2 Axes>"
            ],
            "image/png": "[encoded data removed]"
          },
          "metadata": {}
        }
      ]
    },
    {
      "cell_type": "markdown",
      "source": [
        "## Conclusion\n",
        "\n",
        "In this project, we evaluated both traditional baseline models and deep learning-based approaches for sentiment classification on the Sentiment140 dataset.\n",
        "\n",
        "The baseline models performed as follows:\n",
        "- **Random Baseline** achieved an accuracy of approximately **50.18%**, which is expected for random guessing between two classes.\n",
        "- **Most Frequent Baseline** achieved an accuracy of **49.32%**, simply predicting the most common label. However, it resulted in a precision, recall, and F1-score of **0**, highlighting its inability to correctly predict minority class samples.\n",
        "\n",
        "Our proposed models demonstrated significant improvements:\n",
        "- **Bi-LSTM Model (Baseline Deep Learning Model)** achieved a test accuracy of approximately **77%**, successfully learning sequential dependencies in the text data.\n",
        "- **Fine-tuned BERT Model (Proposed Advanced Model)** further improved performance with a test accuracy of approximately **83%**, demonstrating the effectiveness of transformer architectures and pre-training on large corpora.\n",
        "\n",
        "The results clearly show that while simple baselines provide a reference point, deep learning models — particularly pre-trained transformers like BERT — significantly outperform them in terms of all evaluation metrics. Thus, fine-tuning transformer models remains a highly effective approach for sentiment analysis tasks, especially when dealing with noisy and informal social media text.\n"
      ],
      "metadata": {
        "id": "w8iKWwHJ8HO2"
      }
    }
  ]
}